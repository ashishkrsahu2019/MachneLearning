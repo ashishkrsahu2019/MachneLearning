{
 "cells": [
  {
   "cell_type": "markdown",
   "metadata": {},
   "source": [
    "<img src=\"https://github.com/insaid2018/Term-1/blob/master/Images/INSAID_Full%20Logo.png?raw=true\" width=\"240\" height=\"360\" />\n",
    "\n",
    "# Logistic Regression on titanic dataset"
   ]
  },
  {
   "cell_type": "markdown",
   "metadata": {},
   "source": [
    "## Table of Contents\n",
    "\n",
    "1. [Problem Statement](#section1)<br>\n",
    "2. [Data Loading and Description](#section2)\n",
    "3. [Preprocessing](#section3)\n",
    "4. [Logistic Regression](#section4)<br>\n",
    "    - 4.1 [Introduction of Logistic Regression](#section401)<br>\n",
    "    - 4.2 [Mathematics behind Logistic Regression](#section402)<br>\n",
    "    - 4.3 [Applications of Logistic Regression](#section402)<br>\n",
    "    - 4.4 [Preparing X and y using pandas](#section403)<br>\n",
    "    - 4.5 [Splitting X and y into training and test datasets.](#section404)<br>\n",
    "    - 4.6 [Logistic regression in scikit-learn](#section406)<br>\n",
    "    - 4.7 [Using the Model for Prediction](#section407)<br>\n",
    "5. [Model evaluation](#section5)<br>\n",
    "    - 5.1 [Model Evaluation using accuracy classification score](#section501)<br>\n",
    "    - 5.2 [Model Evaluation using confusion matrix](#section502)<br> "
   ]
  },
  {
   "cell_type": "markdown",
   "metadata": {},
   "source": [
    "<a id=section1></a>"
   ]
  },
  {
   "cell_type": "markdown",
   "metadata": {},
   "source": [
    "### 1. Problem Statement"
   ]
  },
  {
   "cell_type": "markdown",
   "metadata": {},
   "source": [
    "The goal is to __predict Credit card transaction__ in a given data set.\n",
    "It is important that credit card companies are able to recognize fraudulent credit card transactions so that customers are not charged for items that they did not purchase."
   ]
  },
  {
   "cell_type": "markdown",
   "metadata": {},
   "source": [
    "<a id=section2></a>"
   ]
  },
  {
   "cell_type": "markdown",
   "metadata": {},
   "source": [
    "### Content"
   ]
  },
  {
   "cell_type": "markdown",
   "metadata": {},
   "source": [
    "<a id=section201></a>"
   ]
  },
  {
   "cell_type": "markdown",
   "metadata": {
    "_cell_guid": "e4a1cf77-b695-4ca0-9653-6c41ce2393d8",
    "_uuid": "ca91678a9dc8cc103a7fbf799a5d903a011334ef"
   },
   "source": [
    "The datasets contains transactions made by credit cards in September 2013 by european cardholders. This dataset presents transactions that occurred in two days, where we have 492 frauds out of 284,807 transactions. The dataset is highly unbalanced, the positive class (frauds) account for 0.172% of all transactions.\n",
    "\n",
    "It contains only numerical input variables which are the result of a PCA transformation. Unfortunately, due to confidentiality issues, we cannot provide the original features and more background information about the data. Features V1, V2, ... V28 are the principal components obtained with PCA, the only features which have not been transformed with PCA are 'Time' and 'Amount'. Feature 'Time' contains the seconds elapsed between each transaction and the first transaction in the dataset. The feature 'Amount' is the transaction Amount, this feature can be used for example-dependant cost-senstive learning. Feature 'Class' is the response variable and it takes value 1 in case of fraud and 0 otherwise."
   ]
  },
  {
   "cell_type": "markdown",
   "metadata": {},
   "source": [
    "### Inspiration"
   ]
  },
  {
   "cell_type": "markdown",
   "metadata": {},
   "source": [
    "Identify fraudulent credit card transactions.\n",
    "\n",
    "Given the class imbalance ratio, we recommend measuring the accuracy using the Area Under the Precision-Recall Curve (AUPRC). Confusion matrix accuracy is not meaningful for unbalanced classification."
   ]
  },
  {
   "cell_type": "markdown",
   "metadata": {},
   "source": [
    "### 2. Data Loading and Description\n",
    "![image.jpg](../images/credit-card-lock.jpg)"
   ]
  },
  {
   "cell_type": "markdown",
   "metadata": {},
   "source": [
    "| Column Name   | Description                                               |\n",
    "| ------------- |:-------------                                            :| \n",
    "| Time          | Number of seconds elapsed between this transaction and the first transaction in the dataset                                        | \n",
    "| V1-V28      | may be result of a PCA Dimensionality reduction to protect user identities and sensitive features                         |  \n",
    "| Amount        | Transaction amount                                           | \n",
    "| Class          | 1 for fraudulent transactions, 0 otherwise                                       |  "
   ]
  },
  {
   "cell_type": "markdown",
   "metadata": {
    "_cell_guid": "998b2a03-c60e-4fd6-9f69-784de6e6c9b8",
    "_uuid": "d3086cb02907affe5a674b54e4baaedd632482c7"
   },
   "source": [
    "#### Importing packages                                          "
   ]
  },
  {
   "cell_type": "code",
   "execution_count": 1,
   "metadata": {
    "_cell_guid": "872b97b2-56fe-4644-a11f-afb00f422169",
    "_uuid": "efb595c75201cdb2a53388dc152a8e526e1b921a"
   },
   "outputs": [],
   "source": [
    "import pandas as pd\n",
    "import numpy as np\n",
    "\n",
    "from sklearn import preprocessing\n",
    "from sklearn.metrics import confusion_matrix\n",
    "from sklearn import svm\n",
    "\n",
    "import itertools\n",
    "\n",
    "import matplotlib.pyplot as plt\n",
    "import matplotlib.mlab as mlab\n",
    "\n",
    "import seaborn as sns\n",
    "plt.style.use('ggplot')\n",
    "\n",
    "%matplotlib inline"
   ]
  },
  {
   "cell_type": "markdown",
   "metadata": {},
   "source": [
    "#### Importing the Dataset"
   ]
  },
  {
   "cell_type": "code",
   "execution_count": 2,
   "metadata": {
    "_cell_guid": "080fb327-390d-4124-b287-a561d050fe7e",
    "_uuid": "0333d5086a63e3870708e7ba7a540d036c53544e"
   },
   "outputs": [
    {
     "data": {
      "text/html": [
       "<div>\n",
       "<style scoped>\n",
       "    .dataframe tbody tr th:only-of-type {\n",
       "        vertical-align: middle;\n",
       "    }\n",
       "\n",
       "    .dataframe tbody tr th {\n",
       "        vertical-align: top;\n",
       "    }\n",
       "\n",
       "    .dataframe thead th {\n",
       "        text-align: right;\n",
       "    }\n",
       "</style>\n",
       "<table border=\"1\" class=\"dataframe\">\n",
       "  <thead>\n",
       "    <tr style=\"text-align: right;\">\n",
       "      <th></th>\n",
       "      <th>Time</th>\n",
       "      <th>V1</th>\n",
       "      <th>V2</th>\n",
       "      <th>V3</th>\n",
       "      <th>V4</th>\n",
       "      <th>V5</th>\n",
       "      <th>V6</th>\n",
       "      <th>V7</th>\n",
       "      <th>V8</th>\n",
       "      <th>V9</th>\n",
       "      <th>...</th>\n",
       "      <th>V21</th>\n",
       "      <th>V22</th>\n",
       "      <th>V23</th>\n",
       "      <th>V24</th>\n",
       "      <th>V25</th>\n",
       "      <th>V26</th>\n",
       "      <th>V27</th>\n",
       "      <th>V28</th>\n",
       "      <th>Amount</th>\n",
       "      <th>Class</th>\n",
       "    </tr>\n",
       "  </thead>\n",
       "  <tbody>\n",
       "    <tr>\n",
       "      <th>0</th>\n",
       "      <td>0.0</td>\n",
       "      <td>-1.359807</td>\n",
       "      <td>-0.072781</td>\n",
       "      <td>2.536347</td>\n",
       "      <td>1.378155</td>\n",
       "      <td>-0.338321</td>\n",
       "      <td>0.462388</td>\n",
       "      <td>0.239599</td>\n",
       "      <td>0.098698</td>\n",
       "      <td>0.363787</td>\n",
       "      <td>...</td>\n",
       "      <td>-0.018307</td>\n",
       "      <td>0.277838</td>\n",
       "      <td>-0.110474</td>\n",
       "      <td>0.066928</td>\n",
       "      <td>0.128539</td>\n",
       "      <td>-0.189115</td>\n",
       "      <td>0.133558</td>\n",
       "      <td>-0.021053</td>\n",
       "      <td>149.62</td>\n",
       "      <td>0</td>\n",
       "    </tr>\n",
       "    <tr>\n",
       "      <th>1</th>\n",
       "      <td>0.0</td>\n",
       "      <td>1.191857</td>\n",
       "      <td>0.266151</td>\n",
       "      <td>0.166480</td>\n",
       "      <td>0.448154</td>\n",
       "      <td>0.060018</td>\n",
       "      <td>-0.082361</td>\n",
       "      <td>-0.078803</td>\n",
       "      <td>0.085102</td>\n",
       "      <td>-0.255425</td>\n",
       "      <td>...</td>\n",
       "      <td>-0.225775</td>\n",
       "      <td>-0.638672</td>\n",
       "      <td>0.101288</td>\n",
       "      <td>-0.339846</td>\n",
       "      <td>0.167170</td>\n",
       "      <td>0.125895</td>\n",
       "      <td>-0.008983</td>\n",
       "      <td>0.014724</td>\n",
       "      <td>2.69</td>\n",
       "      <td>0</td>\n",
       "    </tr>\n",
       "    <tr>\n",
       "      <th>2</th>\n",
       "      <td>1.0</td>\n",
       "      <td>-1.358354</td>\n",
       "      <td>-1.340163</td>\n",
       "      <td>1.773209</td>\n",
       "      <td>0.379780</td>\n",
       "      <td>-0.503198</td>\n",
       "      <td>1.800499</td>\n",
       "      <td>0.791461</td>\n",
       "      <td>0.247676</td>\n",
       "      <td>-1.514654</td>\n",
       "      <td>...</td>\n",
       "      <td>0.247998</td>\n",
       "      <td>0.771679</td>\n",
       "      <td>0.909412</td>\n",
       "      <td>-0.689281</td>\n",
       "      <td>-0.327642</td>\n",
       "      <td>-0.139097</td>\n",
       "      <td>-0.055353</td>\n",
       "      <td>-0.059752</td>\n",
       "      <td>378.66</td>\n",
       "      <td>0</td>\n",
       "    </tr>\n",
       "    <tr>\n",
       "      <th>3</th>\n",
       "      <td>1.0</td>\n",
       "      <td>-0.966272</td>\n",
       "      <td>-0.185226</td>\n",
       "      <td>1.792993</td>\n",
       "      <td>-0.863291</td>\n",
       "      <td>-0.010309</td>\n",
       "      <td>1.247203</td>\n",
       "      <td>0.237609</td>\n",
       "      <td>0.377436</td>\n",
       "      <td>-1.387024</td>\n",
       "      <td>...</td>\n",
       "      <td>-0.108300</td>\n",
       "      <td>0.005274</td>\n",
       "      <td>-0.190321</td>\n",
       "      <td>-1.175575</td>\n",
       "      <td>0.647376</td>\n",
       "      <td>-0.221929</td>\n",
       "      <td>0.062723</td>\n",
       "      <td>0.061458</td>\n",
       "      <td>123.50</td>\n",
       "      <td>0</td>\n",
       "    </tr>\n",
       "    <tr>\n",
       "      <th>4</th>\n",
       "      <td>2.0</td>\n",
       "      <td>-1.158233</td>\n",
       "      <td>0.877737</td>\n",
       "      <td>1.548718</td>\n",
       "      <td>0.403034</td>\n",
       "      <td>-0.407193</td>\n",
       "      <td>0.095921</td>\n",
       "      <td>0.592941</td>\n",
       "      <td>-0.270533</td>\n",
       "      <td>0.817739</td>\n",
       "      <td>...</td>\n",
       "      <td>-0.009431</td>\n",
       "      <td>0.798278</td>\n",
       "      <td>-0.137458</td>\n",
       "      <td>0.141267</td>\n",
       "      <td>-0.206010</td>\n",
       "      <td>0.502292</td>\n",
       "      <td>0.219422</td>\n",
       "      <td>0.215153</td>\n",
       "      <td>69.99</td>\n",
       "      <td>0</td>\n",
       "    </tr>\n",
       "  </tbody>\n",
       "</table>\n",
       "<p>5 rows × 31 columns</p>\n",
       "</div>"
      ],
      "text/plain": [
       "   Time        V1        V2        V3        V4        V5        V6        V7  \\\n",
       "0   0.0 -1.359807 -0.072781  2.536347  1.378155 -0.338321  0.462388  0.239599   \n",
       "1   0.0  1.191857  0.266151  0.166480  0.448154  0.060018 -0.082361 -0.078803   \n",
       "2   1.0 -1.358354 -1.340163  1.773209  0.379780 -0.503198  1.800499  0.791461   \n",
       "3   1.0 -0.966272 -0.185226  1.792993 -0.863291 -0.010309  1.247203  0.237609   \n",
       "4   2.0 -1.158233  0.877737  1.548718  0.403034 -0.407193  0.095921  0.592941   \n",
       "\n",
       "         V8        V9  ...         V21       V22       V23       V24  \\\n",
       "0  0.098698  0.363787  ...   -0.018307  0.277838 -0.110474  0.066928   \n",
       "1  0.085102 -0.255425  ...   -0.225775 -0.638672  0.101288 -0.339846   \n",
       "2  0.247676 -1.514654  ...    0.247998  0.771679  0.909412 -0.689281   \n",
       "3  0.377436 -1.387024  ...   -0.108300  0.005274 -0.190321 -1.175575   \n",
       "4 -0.270533  0.817739  ...   -0.009431  0.798278 -0.137458  0.141267   \n",
       "\n",
       "        V25       V26       V27       V28  Amount  Class  \n",
       "0  0.128539 -0.189115  0.133558 -0.021053  149.62      0  \n",
       "1  0.167170  0.125895 -0.008983  0.014724    2.69      0  \n",
       "2 -0.327642 -0.139097 -0.055353 -0.059752  378.66      0  \n",
       "3  0.647376 -0.221929  0.062723  0.061458  123.50      0  \n",
       "4 -0.206010  0.502292  0.219422  0.215153   69.99      0  \n",
       "\n",
       "[5 rows x 31 columns]"
      ]
     },
     "execution_count": 2,
     "metadata": {},
     "output_type": "execute_result"
    }
   ],
   "source": [
    "df = pd.read_csv('../Data/creditcard.csv')\n",
    "df.head()"
   ]
  },
  {
   "cell_type": "markdown",
   "metadata": {},
   "source": [
    "## 3. Data Profiling"
   ]
  },
  {
   "cell_type": "markdown",
   "metadata": {},
   "source": [
    "### 3.1 Understanding the Dataset"
   ]
  },
  {
   "cell_type": "markdown",
   "metadata": {},
   "source": [
    "To gain insights from data we must look into each aspect of it very carefully. We will start with observing few rows and columns of data both from the starting and from the end"
   ]
  },
  {
   "cell_type": "code",
   "execution_count": 3,
   "metadata": {},
   "outputs": [
    {
     "data": {
      "text/plain": [
       "Time      float64\n",
       "V1        float64\n",
       "V2        float64\n",
       "V3        float64\n",
       "V4        float64\n",
       "V5        float64\n",
       "V6        float64\n",
       "V7        float64\n",
       "V8        float64\n",
       "V9        float64\n",
       "V10       float64\n",
       "V11       float64\n",
       "V12       float64\n",
       "V13       float64\n",
       "V14       float64\n",
       "V15       float64\n",
       "V16       float64\n",
       "V17       float64\n",
       "V18       float64\n",
       "V19       float64\n",
       "V20       float64\n",
       "V21       float64\n",
       "V22       float64\n",
       "V23       float64\n",
       "V24       float64\n",
       "V25       float64\n",
       "V26       float64\n",
       "V27       float64\n",
       "V28       float64\n",
       "Amount    float64\n",
       "Class       int64\n",
       "dtype: object"
      ]
     },
     "execution_count": 3,
     "metadata": {},
     "output_type": "execute_result"
    }
   ],
   "source": [
    "df.dtypes"
   ]
  },
  {
   "cell_type": "code",
   "execution_count": 4,
   "metadata": {},
   "outputs": [
    {
     "data": {
      "text/plain": [
       "(284807, 31)"
      ]
     },
     "execution_count": 4,
     "metadata": {},
     "output_type": "execute_result"
    }
   ],
   "source": [
    "df.shape"
   ]
  },
  {
   "cell_type": "code",
   "execution_count": 5,
   "metadata": {},
   "outputs": [
    {
     "data": {
      "text/plain": [
       "Index(['Time', 'V1', 'V2', 'V3', 'V4', 'V5', 'V6', 'V7', 'V8', 'V9', 'V10',\n",
       "       'V11', 'V12', 'V13', 'V14', 'V15', 'V16', 'V17', 'V18', 'V19', 'V20',\n",
       "       'V21', 'V22', 'V23', 'V24', 'V25', 'V26', 'V27', 'V28', 'Amount',\n",
       "       'Class'],\n",
       "      dtype='object')"
      ]
     },
     "execution_count": 5,
     "metadata": {},
     "output_type": "execute_result"
    }
   ],
   "source": [
    "df.columns"
   ]
  },
  {
   "cell_type": "code",
   "execution_count": 6,
   "metadata": {},
   "outputs": [
    {
     "name": "stdout",
     "output_type": "stream",
     "text": [
      "<class 'pandas.core.frame.DataFrame'>\n",
      "RangeIndex: 284807 entries, 0 to 284806\n",
      "Data columns (total 31 columns):\n",
      "Time      284807 non-null float64\n",
      "V1        284807 non-null float64\n",
      "V2        284807 non-null float64\n",
      "V3        284807 non-null float64\n",
      "V4        284807 non-null float64\n",
      "V5        284807 non-null float64\n",
      "V6        284807 non-null float64\n",
      "V7        284807 non-null float64\n",
      "V8        284807 non-null float64\n",
      "V9        284807 non-null float64\n",
      "V10       284807 non-null float64\n",
      "V11       284807 non-null float64\n",
      "V12       284807 non-null float64\n",
      "V13       284807 non-null float64\n",
      "V14       284807 non-null float64\n",
      "V15       284807 non-null float64\n",
      "V16       284807 non-null float64\n",
      "V17       284807 non-null float64\n",
      "V18       284807 non-null float64\n",
      "V19       284807 non-null float64\n",
      "V20       284807 non-null float64\n",
      "V21       284807 non-null float64\n",
      "V22       284807 non-null float64\n",
      "V23       284807 non-null float64\n",
      "V24       284807 non-null float64\n",
      "V25       284807 non-null float64\n",
      "V26       284807 non-null float64\n",
      "V27       284807 non-null float64\n",
      "V28       284807 non-null float64\n",
      "Amount    284807 non-null float64\n",
      "Class     284807 non-null int64\n",
      "dtypes: float64(30), int64(1)\n",
      "memory usage: 67.4 MB\n"
     ]
    }
   ],
   "source": [
    "df.info()"
   ]
  },
  {
   "cell_type": "code",
   "execution_count": 7,
   "metadata": {},
   "outputs": [
    {
     "data": {
      "text/html": [
       "<div>\n",
       "<style scoped>\n",
       "    .dataframe tbody tr th:only-of-type {\n",
       "        vertical-align: middle;\n",
       "    }\n",
       "\n",
       "    .dataframe tbody tr th {\n",
       "        vertical-align: top;\n",
       "    }\n",
       "\n",
       "    .dataframe thead th {\n",
       "        text-align: right;\n",
       "    }\n",
       "</style>\n",
       "<table border=\"1\" class=\"dataframe\">\n",
       "  <thead>\n",
       "    <tr style=\"text-align: right;\">\n",
       "      <th></th>\n",
       "      <th>Time</th>\n",
       "      <th>V1</th>\n",
       "      <th>V2</th>\n",
       "      <th>V3</th>\n",
       "      <th>V4</th>\n",
       "      <th>V5</th>\n",
       "      <th>V6</th>\n",
       "      <th>V7</th>\n",
       "      <th>V8</th>\n",
       "      <th>V9</th>\n",
       "      <th>...</th>\n",
       "      <th>V21</th>\n",
       "      <th>V22</th>\n",
       "      <th>V23</th>\n",
       "      <th>V24</th>\n",
       "      <th>V25</th>\n",
       "      <th>V26</th>\n",
       "      <th>V27</th>\n",
       "      <th>V28</th>\n",
       "      <th>Amount</th>\n",
       "      <th>Class</th>\n",
       "    </tr>\n",
       "  </thead>\n",
       "  <tbody>\n",
       "    <tr>\n",
       "      <th>count</th>\n",
       "      <td>284807.000000</td>\n",
       "      <td>2.848070e+05</td>\n",
       "      <td>2.848070e+05</td>\n",
       "      <td>2.848070e+05</td>\n",
       "      <td>2.848070e+05</td>\n",
       "      <td>2.848070e+05</td>\n",
       "      <td>2.848070e+05</td>\n",
       "      <td>2.848070e+05</td>\n",
       "      <td>2.848070e+05</td>\n",
       "      <td>2.848070e+05</td>\n",
       "      <td>...</td>\n",
       "      <td>2.848070e+05</td>\n",
       "      <td>2.848070e+05</td>\n",
       "      <td>2.848070e+05</td>\n",
       "      <td>2.848070e+05</td>\n",
       "      <td>2.848070e+05</td>\n",
       "      <td>2.848070e+05</td>\n",
       "      <td>2.848070e+05</td>\n",
       "      <td>2.848070e+05</td>\n",
       "      <td>284807.000000</td>\n",
       "      <td>284807.000000</td>\n",
       "    </tr>\n",
       "    <tr>\n",
       "      <th>mean</th>\n",
       "      <td>94813.859575</td>\n",
       "      <td>3.919560e-15</td>\n",
       "      <td>5.688174e-16</td>\n",
       "      <td>-8.769071e-15</td>\n",
       "      <td>2.782312e-15</td>\n",
       "      <td>-1.552563e-15</td>\n",
       "      <td>2.010663e-15</td>\n",
       "      <td>-1.694249e-15</td>\n",
       "      <td>-1.927028e-16</td>\n",
       "      <td>-3.137024e-15</td>\n",
       "      <td>...</td>\n",
       "      <td>1.537294e-16</td>\n",
       "      <td>7.959909e-16</td>\n",
       "      <td>5.367590e-16</td>\n",
       "      <td>4.458112e-15</td>\n",
       "      <td>1.453003e-15</td>\n",
       "      <td>1.699104e-15</td>\n",
       "      <td>-3.660161e-16</td>\n",
       "      <td>-1.206049e-16</td>\n",
       "      <td>88.349619</td>\n",
       "      <td>0.001727</td>\n",
       "    </tr>\n",
       "    <tr>\n",
       "      <th>std</th>\n",
       "      <td>47488.145955</td>\n",
       "      <td>1.958696e+00</td>\n",
       "      <td>1.651309e+00</td>\n",
       "      <td>1.516255e+00</td>\n",
       "      <td>1.415869e+00</td>\n",
       "      <td>1.380247e+00</td>\n",
       "      <td>1.332271e+00</td>\n",
       "      <td>1.237094e+00</td>\n",
       "      <td>1.194353e+00</td>\n",
       "      <td>1.098632e+00</td>\n",
       "      <td>...</td>\n",
       "      <td>7.345240e-01</td>\n",
       "      <td>7.257016e-01</td>\n",
       "      <td>6.244603e-01</td>\n",
       "      <td>6.056471e-01</td>\n",
       "      <td>5.212781e-01</td>\n",
       "      <td>4.822270e-01</td>\n",
       "      <td>4.036325e-01</td>\n",
       "      <td>3.300833e-01</td>\n",
       "      <td>250.120109</td>\n",
       "      <td>0.041527</td>\n",
       "    </tr>\n",
       "    <tr>\n",
       "      <th>min</th>\n",
       "      <td>0.000000</td>\n",
       "      <td>-5.640751e+01</td>\n",
       "      <td>-7.271573e+01</td>\n",
       "      <td>-4.832559e+01</td>\n",
       "      <td>-5.683171e+00</td>\n",
       "      <td>-1.137433e+02</td>\n",
       "      <td>-2.616051e+01</td>\n",
       "      <td>-4.355724e+01</td>\n",
       "      <td>-7.321672e+01</td>\n",
       "      <td>-1.343407e+01</td>\n",
       "      <td>...</td>\n",
       "      <td>-3.483038e+01</td>\n",
       "      <td>-1.093314e+01</td>\n",
       "      <td>-4.480774e+01</td>\n",
       "      <td>-2.836627e+00</td>\n",
       "      <td>-1.029540e+01</td>\n",
       "      <td>-2.604551e+00</td>\n",
       "      <td>-2.256568e+01</td>\n",
       "      <td>-1.543008e+01</td>\n",
       "      <td>0.000000</td>\n",
       "      <td>0.000000</td>\n",
       "    </tr>\n",
       "    <tr>\n",
       "      <th>25%</th>\n",
       "      <td>54201.500000</td>\n",
       "      <td>-9.203734e-01</td>\n",
       "      <td>-5.985499e-01</td>\n",
       "      <td>-8.903648e-01</td>\n",
       "      <td>-8.486401e-01</td>\n",
       "      <td>-6.915971e-01</td>\n",
       "      <td>-7.682956e-01</td>\n",
       "      <td>-5.540759e-01</td>\n",
       "      <td>-2.086297e-01</td>\n",
       "      <td>-6.430976e-01</td>\n",
       "      <td>...</td>\n",
       "      <td>-2.283949e-01</td>\n",
       "      <td>-5.423504e-01</td>\n",
       "      <td>-1.618463e-01</td>\n",
       "      <td>-3.545861e-01</td>\n",
       "      <td>-3.171451e-01</td>\n",
       "      <td>-3.269839e-01</td>\n",
       "      <td>-7.083953e-02</td>\n",
       "      <td>-5.295979e-02</td>\n",
       "      <td>5.600000</td>\n",
       "      <td>0.000000</td>\n",
       "    </tr>\n",
       "    <tr>\n",
       "      <th>50%</th>\n",
       "      <td>84692.000000</td>\n",
       "      <td>1.810880e-02</td>\n",
       "      <td>6.548556e-02</td>\n",
       "      <td>1.798463e-01</td>\n",
       "      <td>-1.984653e-02</td>\n",
       "      <td>-5.433583e-02</td>\n",
       "      <td>-2.741871e-01</td>\n",
       "      <td>4.010308e-02</td>\n",
       "      <td>2.235804e-02</td>\n",
       "      <td>-5.142873e-02</td>\n",
       "      <td>...</td>\n",
       "      <td>-2.945017e-02</td>\n",
       "      <td>6.781943e-03</td>\n",
       "      <td>-1.119293e-02</td>\n",
       "      <td>4.097606e-02</td>\n",
       "      <td>1.659350e-02</td>\n",
       "      <td>-5.213911e-02</td>\n",
       "      <td>1.342146e-03</td>\n",
       "      <td>1.124383e-02</td>\n",
       "      <td>22.000000</td>\n",
       "      <td>0.000000</td>\n",
       "    </tr>\n",
       "    <tr>\n",
       "      <th>75%</th>\n",
       "      <td>139320.500000</td>\n",
       "      <td>1.315642e+00</td>\n",
       "      <td>8.037239e-01</td>\n",
       "      <td>1.027196e+00</td>\n",
       "      <td>7.433413e-01</td>\n",
       "      <td>6.119264e-01</td>\n",
       "      <td>3.985649e-01</td>\n",
       "      <td>5.704361e-01</td>\n",
       "      <td>3.273459e-01</td>\n",
       "      <td>5.971390e-01</td>\n",
       "      <td>...</td>\n",
       "      <td>1.863772e-01</td>\n",
       "      <td>5.285536e-01</td>\n",
       "      <td>1.476421e-01</td>\n",
       "      <td>4.395266e-01</td>\n",
       "      <td>3.507156e-01</td>\n",
       "      <td>2.409522e-01</td>\n",
       "      <td>9.104512e-02</td>\n",
       "      <td>7.827995e-02</td>\n",
       "      <td>77.165000</td>\n",
       "      <td>0.000000</td>\n",
       "    </tr>\n",
       "    <tr>\n",
       "      <th>max</th>\n",
       "      <td>172792.000000</td>\n",
       "      <td>2.454930e+00</td>\n",
       "      <td>2.205773e+01</td>\n",
       "      <td>9.382558e+00</td>\n",
       "      <td>1.687534e+01</td>\n",
       "      <td>3.480167e+01</td>\n",
       "      <td>7.330163e+01</td>\n",
       "      <td>1.205895e+02</td>\n",
       "      <td>2.000721e+01</td>\n",
       "      <td>1.559499e+01</td>\n",
       "      <td>...</td>\n",
       "      <td>2.720284e+01</td>\n",
       "      <td>1.050309e+01</td>\n",
       "      <td>2.252841e+01</td>\n",
       "      <td>4.584549e+00</td>\n",
       "      <td>7.519589e+00</td>\n",
       "      <td>3.517346e+00</td>\n",
       "      <td>3.161220e+01</td>\n",
       "      <td>3.384781e+01</td>\n",
       "      <td>25691.160000</td>\n",
       "      <td>1.000000</td>\n",
       "    </tr>\n",
       "  </tbody>\n",
       "</table>\n",
       "<p>8 rows × 31 columns</p>\n",
       "</div>"
      ],
      "text/plain": [
       "                Time            V1            V2            V3            V4  \\\n",
       "count  284807.000000  2.848070e+05  2.848070e+05  2.848070e+05  2.848070e+05   \n",
       "mean    94813.859575  3.919560e-15  5.688174e-16 -8.769071e-15  2.782312e-15   \n",
       "std     47488.145955  1.958696e+00  1.651309e+00  1.516255e+00  1.415869e+00   \n",
       "min         0.000000 -5.640751e+01 -7.271573e+01 -4.832559e+01 -5.683171e+00   \n",
       "25%     54201.500000 -9.203734e-01 -5.985499e-01 -8.903648e-01 -8.486401e-01   \n",
       "50%     84692.000000  1.810880e-02  6.548556e-02  1.798463e-01 -1.984653e-02   \n",
       "75%    139320.500000  1.315642e+00  8.037239e-01  1.027196e+00  7.433413e-01   \n",
       "max    172792.000000  2.454930e+00  2.205773e+01  9.382558e+00  1.687534e+01   \n",
       "\n",
       "                 V5            V6            V7            V8            V9  \\\n",
       "count  2.848070e+05  2.848070e+05  2.848070e+05  2.848070e+05  2.848070e+05   \n",
       "mean  -1.552563e-15  2.010663e-15 -1.694249e-15 -1.927028e-16 -3.137024e-15   \n",
       "std    1.380247e+00  1.332271e+00  1.237094e+00  1.194353e+00  1.098632e+00   \n",
       "min   -1.137433e+02 -2.616051e+01 -4.355724e+01 -7.321672e+01 -1.343407e+01   \n",
       "25%   -6.915971e-01 -7.682956e-01 -5.540759e-01 -2.086297e-01 -6.430976e-01   \n",
       "50%   -5.433583e-02 -2.741871e-01  4.010308e-02  2.235804e-02 -5.142873e-02   \n",
       "75%    6.119264e-01  3.985649e-01  5.704361e-01  3.273459e-01  5.971390e-01   \n",
       "max    3.480167e+01  7.330163e+01  1.205895e+02  2.000721e+01  1.559499e+01   \n",
       "\n",
       "           ...                 V21           V22           V23           V24  \\\n",
       "count      ...        2.848070e+05  2.848070e+05  2.848070e+05  2.848070e+05   \n",
       "mean       ...        1.537294e-16  7.959909e-16  5.367590e-16  4.458112e-15   \n",
       "std        ...        7.345240e-01  7.257016e-01  6.244603e-01  6.056471e-01   \n",
       "min        ...       -3.483038e+01 -1.093314e+01 -4.480774e+01 -2.836627e+00   \n",
       "25%        ...       -2.283949e-01 -5.423504e-01 -1.618463e-01 -3.545861e-01   \n",
       "50%        ...       -2.945017e-02  6.781943e-03 -1.119293e-02  4.097606e-02   \n",
       "75%        ...        1.863772e-01  5.285536e-01  1.476421e-01  4.395266e-01   \n",
       "max        ...        2.720284e+01  1.050309e+01  2.252841e+01  4.584549e+00   \n",
       "\n",
       "                V25           V26           V27           V28         Amount  \\\n",
       "count  2.848070e+05  2.848070e+05  2.848070e+05  2.848070e+05  284807.000000   \n",
       "mean   1.453003e-15  1.699104e-15 -3.660161e-16 -1.206049e-16      88.349619   \n",
       "std    5.212781e-01  4.822270e-01  4.036325e-01  3.300833e-01     250.120109   \n",
       "min   -1.029540e+01 -2.604551e+00 -2.256568e+01 -1.543008e+01       0.000000   \n",
       "25%   -3.171451e-01 -3.269839e-01 -7.083953e-02 -5.295979e-02       5.600000   \n",
       "50%    1.659350e-02 -5.213911e-02  1.342146e-03  1.124383e-02      22.000000   \n",
       "75%    3.507156e-01  2.409522e-01  9.104512e-02  7.827995e-02      77.165000   \n",
       "max    7.519589e+00  3.517346e+00  3.161220e+01  3.384781e+01   25691.160000   \n",
       "\n",
       "               Class  \n",
       "count  284807.000000  \n",
       "mean        0.001727  \n",
       "std         0.041527  \n",
       "min         0.000000  \n",
       "25%         0.000000  \n",
       "50%         0.000000  \n",
       "75%         0.000000  \n",
       "max         1.000000  \n",
       "\n",
       "[8 rows x 31 columns]"
      ]
     },
     "execution_count": 7,
     "metadata": {},
     "output_type": "execute_result"
    }
   ],
   "source": [
    "## Describe data set\n",
    "df.describe()"
   ]
  },
  {
   "cell_type": "code",
   "execution_count": 8,
   "metadata": {},
   "outputs": [
    {
     "data": {
      "text/plain": [
       "Time      0\n",
       "V1        0\n",
       "V2        0\n",
       "V3        0\n",
       "V4        0\n",
       "V5        0\n",
       "V6        0\n",
       "V7        0\n",
       "V8        0\n",
       "V9        0\n",
       "V10       0\n",
       "V11       0\n",
       "V12       0\n",
       "V13       0\n",
       "V14       0\n",
       "V15       0\n",
       "V16       0\n",
       "V17       0\n",
       "V18       0\n",
       "V19       0\n",
       "V20       0\n",
       "V21       0\n",
       "V22       0\n",
       "V23       0\n",
       "V24       0\n",
       "V25       0\n",
       "V26       0\n",
       "V27       0\n",
       "V28       0\n",
       "Amount    0\n",
       "Class     0\n",
       "dtype: int64"
      ]
     },
     "execution_count": 8,
     "metadata": {},
     "output_type": "execute_result"
    }
   ],
   "source": [
    "df.isnull().sum()"
   ]
  },
  {
   "cell_type": "code",
   "execution_count": 9,
   "metadata": {},
   "outputs": [
    {
     "data": {
      "text/html": [
       "<div>\n",
       "<style scoped>\n",
       "    .dataframe tbody tr th:only-of-type {\n",
       "        vertical-align: middle;\n",
       "    }\n",
       "\n",
       "    .dataframe tbody tr th {\n",
       "        vertical-align: top;\n",
       "    }\n",
       "\n",
       "    .dataframe thead th {\n",
       "        text-align: right;\n",
       "    }\n",
       "</style>\n",
       "<table border=\"1\" class=\"dataframe\">\n",
       "  <thead>\n",
       "    <tr style=\"text-align: right;\">\n",
       "      <th></th>\n",
       "      <th>Time</th>\n",
       "      <th>V1</th>\n",
       "      <th>V2</th>\n",
       "      <th>V3</th>\n",
       "      <th>V4</th>\n",
       "      <th>V5</th>\n",
       "      <th>V6</th>\n",
       "      <th>V7</th>\n",
       "      <th>V8</th>\n",
       "      <th>V9</th>\n",
       "      <th>...</th>\n",
       "      <th>V21</th>\n",
       "      <th>V22</th>\n",
       "      <th>V23</th>\n",
       "      <th>V24</th>\n",
       "      <th>V25</th>\n",
       "      <th>V26</th>\n",
       "      <th>V27</th>\n",
       "      <th>V28</th>\n",
       "      <th>Amount</th>\n",
       "      <th>Class</th>\n",
       "    </tr>\n",
       "  </thead>\n",
       "  <tbody>\n",
       "    <tr>\n",
       "      <th>222527</th>\n",
       "      <td>143014.0</td>\n",
       "      <td>2.072653</td>\n",
       "      <td>0.011959</td>\n",
       "      <td>-2.006684</td>\n",
       "      <td>0.303049</td>\n",
       "      <td>0.474403</td>\n",
       "      <td>-1.425501</td>\n",
       "      <td>0.759357</td>\n",
       "      <td>-0.566419</td>\n",
       "      <td>0.107168</td>\n",
       "      <td>...</td>\n",
       "      <td>0.112942</td>\n",
       "      <td>0.507244</td>\n",
       "      <td>-0.068899</td>\n",
       "      <td>-0.063252</td>\n",
       "      <td>0.365890</td>\n",
       "      <td>0.835564</td>\n",
       "      <td>-0.120629</td>\n",
       "      <td>-0.082934</td>\n",
       "      <td>29.95</td>\n",
       "      <td>0</td>\n",
       "    </tr>\n",
       "    <tr>\n",
       "      <th>271601</th>\n",
       "      <td>164653.0</td>\n",
       "      <td>-0.170430</td>\n",
       "      <td>0.887503</td>\n",
       "      <td>-0.409865</td>\n",
       "      <td>-1.108139</td>\n",
       "      <td>1.222003</td>\n",
       "      <td>0.190468</td>\n",
       "      <td>0.780833</td>\n",
       "      <td>0.129645</td>\n",
       "      <td>-0.016137</td>\n",
       "      <td>...</td>\n",
       "      <td>-0.317605</td>\n",
       "      <td>-0.754986</td>\n",
       "      <td>-0.014269</td>\n",
       "      <td>-0.368357</td>\n",
       "      <td>-0.308691</td>\n",
       "      <td>0.159127</td>\n",
       "      <td>0.339207</td>\n",
       "      <td>0.150677</td>\n",
       "      <td>3.57</td>\n",
       "      <td>0</td>\n",
       "    </tr>\n",
       "    <tr>\n",
       "      <th>206939</th>\n",
       "      <td>136450.0</td>\n",
       "      <td>1.881184</td>\n",
       "      <td>-0.443869</td>\n",
       "      <td>-2.204595</td>\n",
       "      <td>0.121189</td>\n",
       "      <td>1.245991</td>\n",
       "      <td>1.190346</td>\n",
       "      <td>0.062343</td>\n",
       "      <td>0.331629</td>\n",
       "      <td>0.369772</td>\n",
       "      <td>...</td>\n",
       "      <td>0.061180</td>\n",
       "      <td>0.243741</td>\n",
       "      <td>0.071565</td>\n",
       "      <td>-0.938136</td>\n",
       "      <td>0.011097</td>\n",
       "      <td>0.461852</td>\n",
       "      <td>-0.062279</td>\n",
       "      <td>-0.090568</td>\n",
       "      <td>49.99</td>\n",
       "      <td>0</td>\n",
       "    </tr>\n",
       "    <tr>\n",
       "      <th>251467</th>\n",
       "      <td>155355.0</td>\n",
       "      <td>-0.240177</td>\n",
       "      <td>0.896769</td>\n",
       "      <td>-0.244127</td>\n",
       "      <td>-0.275083</td>\n",
       "      <td>0.689466</td>\n",
       "      <td>-0.991263</td>\n",
       "      <td>0.986829</td>\n",
       "      <td>-0.158987</td>\n",
       "      <td>-0.289911</td>\n",
       "      <td>...</td>\n",
       "      <td>0.401670</td>\n",
       "      <td>1.173449</td>\n",
       "      <td>-0.217490</td>\n",
       "      <td>-0.063604</td>\n",
       "      <td>-0.580101</td>\n",
       "      <td>-0.189710</td>\n",
       "      <td>0.102368</td>\n",
       "      <td>0.235619</td>\n",
       "      <td>33.90</td>\n",
       "      <td>0</td>\n",
       "    </tr>\n",
       "    <tr>\n",
       "      <th>118238</th>\n",
       "      <td>75006.0</td>\n",
       "      <td>-0.690792</td>\n",
       "      <td>1.162136</td>\n",
       "      <td>1.508540</td>\n",
       "      <td>0.220132</td>\n",
       "      <td>-0.085833</td>\n",
       "      <td>-0.343287</td>\n",
       "      <td>0.484989</td>\n",
       "      <td>0.151574</td>\n",
       "      <td>-0.162557</td>\n",
       "      <td>...</td>\n",
       "      <td>-0.228552</td>\n",
       "      <td>-0.517994</td>\n",
       "      <td>0.021073</td>\n",
       "      <td>0.042060</td>\n",
       "      <td>-0.386792</td>\n",
       "      <td>0.207255</td>\n",
       "      <td>0.442330</td>\n",
       "      <td>0.237352</td>\n",
       "      <td>1.18</td>\n",
       "      <td>0</td>\n",
       "    </tr>\n",
       "  </tbody>\n",
       "</table>\n",
       "<p>5 rows × 31 columns</p>\n",
       "</div>"
      ],
      "text/plain": [
       "            Time        V1        V2        V3        V4        V5        V6  \\\n",
       "222527  143014.0  2.072653  0.011959 -2.006684  0.303049  0.474403 -1.425501   \n",
       "271601  164653.0 -0.170430  0.887503 -0.409865 -1.108139  1.222003  0.190468   \n",
       "206939  136450.0  1.881184 -0.443869 -2.204595  0.121189  1.245991  1.190346   \n",
       "251467  155355.0 -0.240177  0.896769 -0.244127 -0.275083  0.689466 -0.991263   \n",
       "118238   75006.0 -0.690792  1.162136  1.508540  0.220132 -0.085833 -0.343287   \n",
       "\n",
       "              V7        V8        V9  ...         V21       V22       V23  \\\n",
       "222527  0.759357 -0.566419  0.107168  ...    0.112942  0.507244 -0.068899   \n",
       "271601  0.780833  0.129645 -0.016137  ...   -0.317605 -0.754986 -0.014269   \n",
       "206939  0.062343  0.331629  0.369772  ...    0.061180  0.243741  0.071565   \n",
       "251467  0.986829 -0.158987 -0.289911  ...    0.401670  1.173449 -0.217490   \n",
       "118238  0.484989  0.151574 -0.162557  ...   -0.228552 -0.517994  0.021073   \n",
       "\n",
       "             V24       V25       V26       V27       V28  Amount  Class  \n",
       "222527 -0.063252  0.365890  0.835564 -0.120629 -0.082934   29.95      0  \n",
       "271601 -0.368357 -0.308691  0.159127  0.339207  0.150677    3.57      0  \n",
       "206939 -0.938136  0.011097  0.461852 -0.062279 -0.090568   49.99      0  \n",
       "251467 -0.063604 -0.580101 -0.189710  0.102368  0.235619   33.90      0  \n",
       "118238  0.042060 -0.386792  0.207255  0.442330  0.237352    1.18      0  \n",
       "\n",
       "[5 rows x 31 columns]"
      ]
     },
     "execution_count": 9,
     "metadata": {},
     "output_type": "execute_result"
    }
   ],
   "source": [
    "df.sample(5)"
   ]
  },
  {
   "cell_type": "code",
   "execution_count": 10,
   "metadata": {},
   "outputs": [
    {
     "data": {
      "text/html": [
       "<div>\n",
       "<style scoped>\n",
       "    .dataframe tbody tr th:only-of-type {\n",
       "        vertical-align: middle;\n",
       "    }\n",
       "\n",
       "    .dataframe tbody tr th {\n",
       "        vertical-align: top;\n",
       "    }\n",
       "\n",
       "    .dataframe thead th {\n",
       "        text-align: right;\n",
       "    }\n",
       "</style>\n",
       "<table border=\"1\" class=\"dataframe\">\n",
       "  <thead>\n",
       "    <tr style=\"text-align: right;\">\n",
       "      <th></th>\n",
       "      <th>Time</th>\n",
       "      <th>Amount</th>\n",
       "    </tr>\n",
       "  </thead>\n",
       "  <tbody>\n",
       "    <tr>\n",
       "      <th>count</th>\n",
       "      <td>284807.000</td>\n",
       "      <td>284807.000</td>\n",
       "    </tr>\n",
       "    <tr>\n",
       "      <th>mean</th>\n",
       "      <td>94813.860</td>\n",
       "      <td>88.350</td>\n",
       "    </tr>\n",
       "    <tr>\n",
       "      <th>std</th>\n",
       "      <td>47488.146</td>\n",
       "      <td>250.120</td>\n",
       "    </tr>\n",
       "    <tr>\n",
       "      <th>min</th>\n",
       "      <td>0.000</td>\n",
       "      <td>0.000</td>\n",
       "    </tr>\n",
       "    <tr>\n",
       "      <th>25%</th>\n",
       "      <td>54201.500</td>\n",
       "      <td>5.600</td>\n",
       "    </tr>\n",
       "    <tr>\n",
       "      <th>50%</th>\n",
       "      <td>84692.000</td>\n",
       "      <td>22.000</td>\n",
       "    </tr>\n",
       "    <tr>\n",
       "      <th>75%</th>\n",
       "      <td>139320.500</td>\n",
       "      <td>77.165</td>\n",
       "    </tr>\n",
       "    <tr>\n",
       "      <th>max</th>\n",
       "      <td>172792.000</td>\n",
       "      <td>25691.160</td>\n",
       "    </tr>\n",
       "  </tbody>\n",
       "</table>\n",
       "</div>"
      ],
      "text/plain": [
       "             Time      Amount\n",
       "count  284807.000  284807.000\n",
       "mean    94813.860      88.350\n",
       "std     47488.146     250.120\n",
       "min         0.000       0.000\n",
       "25%     54201.500       5.600\n",
       "50%     84692.000      22.000\n",
       "75%    139320.500      77.165\n",
       "max    172792.000   25691.160"
      ]
     },
     "execution_count": 10,
     "metadata": {},
     "output_type": "execute_result"
    }
   ],
   "source": [
    "pd.set_option('precision',3)\n",
    "df.loc[:,['Time','Amount']].describe()"
   ]
  },
  {
   "cell_type": "code",
   "execution_count": 11,
   "metadata": {},
   "outputs": [
    {
     "data": {
      "text/html": [
       "<div>\n",
       "<style scoped>\n",
       "    .dataframe tbody tr th:only-of-type {\n",
       "        vertical-align: middle;\n",
       "    }\n",
       "\n",
       "    .dataframe tbody tr th {\n",
       "        vertical-align: top;\n",
       "    }\n",
       "\n",
       "    .dataframe thead th {\n",
       "        text-align: right;\n",
       "    }\n",
       "</style>\n",
       "<table border=\"1\" class=\"dataframe\">\n",
       "  <thead>\n",
       "    <tr style=\"text-align: right;\">\n",
       "      <th></th>\n",
       "      <th>Time</th>\n",
       "      <th>V1</th>\n",
       "      <th>V2</th>\n",
       "      <th>V3</th>\n",
       "      <th>V4</th>\n",
       "      <th>V5</th>\n",
       "      <th>V6</th>\n",
       "      <th>V7</th>\n",
       "      <th>V8</th>\n",
       "      <th>V9</th>\n",
       "      <th>...</th>\n",
       "      <th>V21</th>\n",
       "      <th>V22</th>\n",
       "      <th>V23</th>\n",
       "      <th>V24</th>\n",
       "      <th>V25</th>\n",
       "      <th>V26</th>\n",
       "      <th>V27</th>\n",
       "      <th>V28</th>\n",
       "      <th>Amount</th>\n",
       "      <th>Class</th>\n",
       "    </tr>\n",
       "  </thead>\n",
       "  <tbody>\n",
       "    <tr>\n",
       "      <th>541</th>\n",
       "      <td>406.0</td>\n",
       "      <td>-2.312</td>\n",
       "      <td>1.952</td>\n",
       "      <td>-1.610</td>\n",
       "      <td>3.998</td>\n",
       "      <td>-0.522</td>\n",
       "      <td>-1.427</td>\n",
       "      <td>-2.537</td>\n",
       "      <td>1.392</td>\n",
       "      <td>-2.770</td>\n",
       "      <td>...</td>\n",
       "      <td>0.517</td>\n",
       "      <td>-0.035</td>\n",
       "      <td>-0.465</td>\n",
       "      <td>0.320</td>\n",
       "      <td>0.045</td>\n",
       "      <td>0.178</td>\n",
       "      <td>0.261</td>\n",
       "      <td>-0.143</td>\n",
       "      <td>0.0</td>\n",
       "      <td>1</td>\n",
       "    </tr>\n",
       "    <tr>\n",
       "      <th>623</th>\n",
       "      <td>472.0</td>\n",
       "      <td>-3.044</td>\n",
       "      <td>-3.157</td>\n",
       "      <td>1.088</td>\n",
       "      <td>2.289</td>\n",
       "      <td>1.360</td>\n",
       "      <td>-1.065</td>\n",
       "      <td>0.326</td>\n",
       "      <td>-0.068</td>\n",
       "      <td>-0.271</td>\n",
       "      <td>...</td>\n",
       "      <td>0.662</td>\n",
       "      <td>0.435</td>\n",
       "      <td>1.376</td>\n",
       "      <td>-0.294</td>\n",
       "      <td>0.280</td>\n",
       "      <td>-0.145</td>\n",
       "      <td>-0.253</td>\n",
       "      <td>0.036</td>\n",
       "      <td>529.0</td>\n",
       "      <td>1</td>\n",
       "    </tr>\n",
       "  </tbody>\n",
       "</table>\n",
       "<p>2 rows × 31 columns</p>\n",
       "</div>"
      ],
      "text/plain": [
       "      Time     V1     V2     V3     V4     V5     V6     V7     V8     V9  \\\n",
       "541  406.0 -2.312  1.952 -1.610  3.998 -0.522 -1.427 -2.537  1.392 -2.770   \n",
       "623  472.0 -3.044 -3.157  1.088  2.289  1.360 -1.065  0.326 -0.068 -0.271   \n",
       "\n",
       "     ...      V21    V22    V23    V24    V25    V26    V27    V28  Amount  \\\n",
       "541  ...    0.517 -0.035 -0.465  0.320  0.045  0.178  0.261 -0.143     0.0   \n",
       "623  ...    0.662  0.435  1.376 -0.294  0.280 -0.145 -0.253  0.036   529.0   \n",
       "\n",
       "     Class  \n",
       "541      1  \n",
       "623      1  \n",
       "\n",
       "[2 rows x 31 columns]"
      ]
     },
     "execution_count": 11,
     "metadata": {},
     "output_type": "execute_result"
    }
   ],
   "source": [
    "data_fraud= df[df['Class']==1]\n",
    "data_fraud.head(2)\n"
   ]
  },
  {
   "cell_type": "code",
   "execution_count": 12,
   "metadata": {},
   "outputs": [
    {
     "data": {
      "text/html": [
       "<div>\n",
       "<style scoped>\n",
       "    .dataframe tbody tr th:only-of-type {\n",
       "        vertical-align: middle;\n",
       "    }\n",
       "\n",
       "    .dataframe tbody tr th {\n",
       "        vertical-align: top;\n",
       "    }\n",
       "\n",
       "    .dataframe thead th {\n",
       "        text-align: right;\n",
       "    }\n",
       "</style>\n",
       "<table border=\"1\" class=\"dataframe\">\n",
       "  <thead>\n",
       "    <tr style=\"text-align: right;\">\n",
       "      <th></th>\n",
       "      <th>Time</th>\n",
       "      <th>Amount</th>\n",
       "    </tr>\n",
       "  </thead>\n",
       "  <tbody>\n",
       "    <tr>\n",
       "      <th>count</th>\n",
       "      <td>492.000</td>\n",
       "      <td>492.000</td>\n",
       "    </tr>\n",
       "    <tr>\n",
       "      <th>mean</th>\n",
       "      <td>80746.807</td>\n",
       "      <td>122.211</td>\n",
       "    </tr>\n",
       "    <tr>\n",
       "      <th>std</th>\n",
       "      <td>47835.365</td>\n",
       "      <td>256.683</td>\n",
       "    </tr>\n",
       "    <tr>\n",
       "      <th>min</th>\n",
       "      <td>406.000</td>\n",
       "      <td>0.000</td>\n",
       "    </tr>\n",
       "    <tr>\n",
       "      <th>25%</th>\n",
       "      <td>41241.500</td>\n",
       "      <td>1.000</td>\n",
       "    </tr>\n",
       "    <tr>\n",
       "      <th>50%</th>\n",
       "      <td>75568.500</td>\n",
       "      <td>9.250</td>\n",
       "    </tr>\n",
       "    <tr>\n",
       "      <th>75%</th>\n",
       "      <td>128483.000</td>\n",
       "      <td>105.890</td>\n",
       "    </tr>\n",
       "    <tr>\n",
       "      <th>max</th>\n",
       "      <td>170348.000</td>\n",
       "      <td>2125.870</td>\n",
       "    </tr>\n",
       "  </tbody>\n",
       "</table>\n",
       "</div>"
      ],
      "text/plain": [
       "             Time    Amount\n",
       "count     492.000   492.000\n",
       "mean    80746.807   122.211\n",
       "std     47835.365   256.683\n",
       "min       406.000     0.000\n",
       "25%     41241.500     1.000\n",
       "50%     75568.500     9.250\n",
       "75%    128483.000   105.890\n",
       "max    170348.000  2125.870"
      ]
     },
     "execution_count": 12,
     "metadata": {},
     "output_type": "execute_result"
    }
   ],
   "source": [
    "data_fraud.loc[:,['Time','Amount']].describe()"
   ]
  },
  {
   "cell_type": "code",
   "execution_count": 13,
   "metadata": {},
   "outputs": [
    {
     "name": "stderr",
     "output_type": "stream",
     "text": [
      "/home/ashish/anaconda3/lib/python3.7/site-packages/scipy/stats/stats.py:1713: FutureWarning: Using a non-tuple sequence for multidimensional indexing is deprecated; use `arr[tuple(seq)]` instead of `arr[seq]`. In the future this will be interpreted as an array index, `arr[np.array(seq)]`, which will result either in an error or a different result.\n",
      "  return np.add.reduce(sorted[indexer] * weights, axis=axis) / sumval\n"
     ]
    },
    {
     "data": {
      "text/plain": [
       "<matplotlib.axes._subplots.AxesSubplot at 0x7f0bde790780>"
      ]
     },
     "execution_count": 13,
     "metadata": {},
     "output_type": "execute_result"
    },
    {
     "data": {
      "image/png": "[encoded data removed]",
      "text/plain": [
       "<Figure size 720x576 with 1 Axes>"
      ]
     },
     "metadata": {
      "needs_background": "light"
     },
     "output_type": "display_data"
    }
   ],
   "source": [
    "#visualizations of time and amount\n",
    "plt.figure(figsize=(10,8))\n",
    "plt.title('Distribution of Time Feature')\n",
    "sns.distplot(df.Time)"
   ]
  },
  {
   "cell_type": "code",
   "execution_count": 14,
   "metadata": {},
   "outputs": [
    {
     "data": {
      "text/plain": [
       "<matplotlib.axes._subplots.AxesSubplot at 0x7f0bde5fbc18>"
      ]
     },
     "execution_count": 14,
     "metadata": {},
     "output_type": "execute_result"
    },
    {
     "data": {
      "image/png": "[encoded data removed]",
      "text/plain": [
       "<Figure size 720x576 with 1 Axes>"
      ]
     },
     "metadata": {
      "needs_background": "light"
     },
     "output_type": "display_data"
    }
   ],
   "source": [
    "plt.figure(figsize=(10,8))\n",
    "plt.title('Distribution of Amount Feature')\n",
    "sns.distplot(df.Amount)"
   ]
  },
  {
   "cell_type": "markdown",
   "metadata": {},
   "source": [
    "Data is right skewed, Mean of Amount is $88.35 and highest value of amount is 25691.16"
   ]
  },
  {
   "cell_type": "code",
   "execution_count": 15,
   "metadata": {},
   "outputs": [
    {
     "name": "stdout",
     "output_type": "stream",
     "text": [
      "Int64Index([0, 1], dtype='int64')\n",
      "0    284315\n",
      "1       492\n",
      "Name: Class, dtype: int64\n",
      "There are 284807 total transaction of of which (99.827%) percentage is normal and (0.173%) is fraud\n"
     ]
    }
   ],
   "source": [
    "# percentage of fraud incident vs non-fraud transactions\n",
    "counts=df.Class.value_counts()\n",
    "print(counts.index)\n",
    "print(counts)\n",
    "total_nonfraud=counts[0]\n",
    "total_fraud=counts[1]\n",
    "perc_normal=((total_nonfraud)/(total_fraud+total_nonfraud))*100\n",
    "\n",
    "perc_fraud=((total_fraud)/(total_fraud+total_nonfraud))*100\n",
    "\n",
    "#Percentage of fraud transaction\n",
    "\n",
    "print('There are {} total transaction of of which ({:.3f}%) percentage is normal and ({:.3f}%) is fraud'.format(total_fraud+total_nonfraud,perc_normal,perc_fraud))"
   ]
  },
  {
   "cell_type": "code",
   "execution_count": 16,
   "metadata": {},
   "outputs": [
    {
     "data": {
      "text/plain": [
       "Text(0.5, 1.0, 'Credit Card Fraud vs Non-Fraud transactions Transactions')"
      ]
     },
     "execution_count": 16,
     "metadata": {},
     "output_type": "execute_result"
    },
    {
     "data": {
      "image/png": "[encoded data removed]",
      "text/plain": [
       "<Figure size 576x432 with 1 Axes>"
      ]
     },
     "metadata": {
      "needs_background": "light"
     },
     "output_type": "display_data"
    }
   ],
   "source": [
    "plt.figure(figsize=(8,6))\n",
    "\n",
    "sns.barplot(x=counts.index, y=counts)\n",
    "plt.xlabel('Class (0:Non-Fraudulent, 1:Fraudulent)')\n",
    "plt.ylabel('Counts')\n",
    "plt.title('Credit Card Fraud vs Non-Fraud transactions Transactions')"
   ]
  },
  {
   "cell_type": "code",
   "execution_count": 17,
   "metadata": {},
   "outputs": [
    {
     "data": {
      "text/plain": [
       "Time      -0.036\n",
       "V1        -3.281\n",
       "V2        -4.625\n",
       "V3        -2.240\n",
       "V4         0.676\n",
       "V5        -2.426\n",
       "V6         1.827\n",
       "V7         2.554\n",
       "V8        -8.522\n",
       "V9         0.555\n",
       "V10        1.187\n",
       "V11        0.357\n",
       "V12       -2.278\n",
       "V13        0.065\n",
       "V14       -1.995\n",
       "V15       -0.308\n",
       "V16       -1.101\n",
       "V17       -3.845\n",
       "V18       -0.260\n",
       "V19        0.109\n",
       "V20       -2.037\n",
       "V21        3.593\n",
       "V22       -0.213\n",
       "V23       -5.875\n",
       "V24       -0.552\n",
       "V25       -0.416\n",
       "V26        0.577\n",
       "V27       -1.170\n",
       "V28       11.192\n",
       "Amount    16.978\n",
       "Class     23.998\n",
       "dtype: float64"
      ]
     },
     "execution_count": 17,
     "metadata": {},
     "output_type": "execute_result"
    }
   ],
   "source": [
    "skew_=df.skew()\n",
    "skew_"
   ]
  },
  {
   "cell_type": "markdown",
   "metadata": {},
   "source": [
    "#### Data is highly skewed. "
   ]
  },
  {
   "cell_type": "markdown",
   "metadata": {},
   "source": [
    "Distribution of transaction amount w.r.t time for Fraud transactions"
   ]
  },
  {
   "cell_type": "code",
   "execution_count": 18,
   "metadata": {},
   "outputs": [],
   "source": [
    "df_fraud = df[df['Class'] == 1] "
   ]
  },
  {
   "cell_type": "code",
   "execution_count": 19,
   "metadata": {},
   "outputs": [
    {
     "data": {
      "image/png": "[encoded data removed]",
      "text/plain": [
       "<Figure size 1080x720 with 1 Axes>"
      ]
     },
     "metadata": {
      "needs_background": "light"
     },
     "output_type": "display_data"
    }
   ],
   "source": [
    "plt.figure(figsize=(15,10))\n",
    "plt.scatter(df_fraud['Time'],df_fraud['Amount'])\n",
    "plt.title('Fraud Transactions')\n",
    "plt.xlabel('Time')\n",
    "plt.ylabel('Amount')\n",
    "plt.xlim([0,185000])\n",
    "plt.ylim([0,2500])\n",
    "plt.show()"
   ]
  },
  {
   "cell_type": "markdown",
   "metadata": {},
   "source": [
    "Time is not co-related with Amount.\n",
    "\n",
    "__Majority of fraud is below $1000.__"
   ]
  },
  {
   "cell_type": "markdown",
   "metadata": {},
   "source": [
    "### Calculation of Number of fraud with high value transaction"
   ]
  },
  {
   "cell_type": "code",
   "execution_count": 20,
   "metadata": {},
   "outputs": [
    {
     "data": {
      "text/plain": [
       "(9, 31)"
      ]
     },
     "execution_count": 20,
     "metadata": {},
     "output_type": "execute_result"
    }
   ],
   "source": [
    "df_Bigfraud = df_fraud[df_fraud['Amount']>1000]\n",
    "df_Bigfraud.shape"
   ]
  },
  {
   "cell_type": "markdown",
   "metadata": {},
   "source": [
    "There are only __9 frauds__ which are classified as outliers, i.e. __High valued transactions__"
   ]
  },
  {
   "cell_type": "markdown",
   "metadata": {},
   "source": [
    "Effectively out of 284807 transactions only 492 (0.173%) transactions are fraud transactions, and out of which 9 are high valued transactions.\n",
    "We cannot use this data for detecting fraud transaction as 99% of data normal and an algorithm trained on this data set will always predict transactions as normal transaction with 99% accuracy. \n",
    "To get over this situation we will have to utilize __random under-sampling__ to create a training dataset with a balanced class distribution that will force the algorithms to detect fraudulent transactions as such to achieve high performance."
   ]
  },
  {
   "cell_type": "code",
   "execution_count": null,
   "metadata": {},
   "outputs": [],
   "source": []
  },
  {
   "cell_type": "markdown",
   "metadata": {},
   "source": [
    "### Correlation among different parameters"
   ]
  },
  {
   "cell_type": "code",
   "execution_count": 21,
   "metadata": {},
   "outputs": [
    {
     "data": {
      "text/html": [
       "<div>\n",
       "<style scoped>\n",
       "    .dataframe tbody tr th:only-of-type {\n",
       "        vertical-align: middle;\n",
       "    }\n",
       "\n",
       "    .dataframe tbody tr th {\n",
       "        vertical-align: top;\n",
       "    }\n",
       "\n",
       "    .dataframe thead th {\n",
       "        text-align: right;\n",
       "    }\n",
       "</style>\n",
       "<table border=\"1\" class=\"dataframe\">\n",
       "  <thead>\n",
       "    <tr style=\"text-align: right;\">\n",
       "      <th></th>\n",
       "      <th>Time</th>\n",
       "      <th>V1</th>\n",
       "      <th>V2</th>\n",
       "      <th>V3</th>\n",
       "      <th>V4</th>\n",
       "      <th>V5</th>\n",
       "      <th>V6</th>\n",
       "      <th>V7</th>\n",
       "      <th>V8</th>\n",
       "      <th>V9</th>\n",
       "      <th>...</th>\n",
       "      <th>V21</th>\n",
       "      <th>V22</th>\n",
       "      <th>V23</th>\n",
       "      <th>V24</th>\n",
       "      <th>V25</th>\n",
       "      <th>V26</th>\n",
       "      <th>V27</th>\n",
       "      <th>V28</th>\n",
       "      <th>Amount</th>\n",
       "      <th>Class</th>\n",
       "    </tr>\n",
       "  </thead>\n",
       "  <tbody>\n",
       "    <tr>\n",
       "      <th>Time</th>\n",
       "      <td>1.000</td>\n",
       "      <td>1.174e-01</td>\n",
       "      <td>-1.059e-02</td>\n",
       "      <td>-4.196e-01</td>\n",
       "      <td>-1.053e-01</td>\n",
       "      <td>1.731e-01</td>\n",
       "      <td>-6.302e-02</td>\n",
       "      <td>8.471e-02</td>\n",
       "      <td>-3.695e-02</td>\n",
       "      <td>-8.660e-03</td>\n",
       "      <td>...</td>\n",
       "      <td>4.474e-02</td>\n",
       "      <td>1.441e-01</td>\n",
       "      <td>5.114e-02</td>\n",
       "      <td>-1.618e-02</td>\n",
       "      <td>-2.331e-01</td>\n",
       "      <td>-4.141e-02</td>\n",
       "      <td>-5.135e-03</td>\n",
       "      <td>-9.413e-03</td>\n",
       "      <td>-1.060e-02</td>\n",
       "      <td>-1.232e-02</td>\n",
       "    </tr>\n",
       "    <tr>\n",
       "      <th>V1</th>\n",
       "      <td>0.117</td>\n",
       "      <td>1.000e+00</td>\n",
       "      <td>4.697e-17</td>\n",
       "      <td>-1.424e-15</td>\n",
       "      <td>1.755e-17</td>\n",
       "      <td>6.391e-17</td>\n",
       "      <td>2.398e-16</td>\n",
       "      <td>1.992e-15</td>\n",
       "      <td>-9.491e-17</td>\n",
       "      <td>2.170e-16</td>\n",
       "      <td>...</td>\n",
       "      <td>-1.755e-16</td>\n",
       "      <td>7.477e-17</td>\n",
       "      <td>9.809e-16</td>\n",
       "      <td>7.354e-17</td>\n",
       "      <td>-9.805e-16</td>\n",
       "      <td>-8.622e-17</td>\n",
       "      <td>3.208e-17</td>\n",
       "      <td>9.821e-16</td>\n",
       "      <td>-2.277e-01</td>\n",
       "      <td>-1.013e-01</td>\n",
       "    </tr>\n",
       "    <tr>\n",
       "      <th>V2</th>\n",
       "      <td>-0.011</td>\n",
       "      <td>4.697e-17</td>\n",
       "      <td>1.000e+00</td>\n",
       "      <td>2.512e-16</td>\n",
       "      <td>-1.126e-16</td>\n",
       "      <td>-2.040e-16</td>\n",
       "      <td>5.025e-16</td>\n",
       "      <td>3.966e-16</td>\n",
       "      <td>-4.414e-17</td>\n",
       "      <td>-5.729e-17</td>\n",
       "      <td>...</td>\n",
       "      <td>8.444e-17</td>\n",
       "      <td>2.501e-16</td>\n",
       "      <td>1.060e-16</td>\n",
       "      <td>-8.142e-18</td>\n",
       "      <td>-4.262e-17</td>\n",
       "      <td>2.602e-16</td>\n",
       "      <td>-4.478e-16</td>\n",
       "      <td>-3.676e-16</td>\n",
       "      <td>-5.314e-01</td>\n",
       "      <td>9.129e-02</td>\n",
       "    </tr>\n",
       "    <tr>\n",
       "      <th>V3</th>\n",
       "      <td>-0.420</td>\n",
       "      <td>-1.424e-15</td>\n",
       "      <td>2.512e-16</td>\n",
       "      <td>1.000e+00</td>\n",
       "      <td>-3.417e-16</td>\n",
       "      <td>-1.437e-15</td>\n",
       "      <td>1.432e-15</td>\n",
       "      <td>2.169e-15</td>\n",
       "      <td>3.433e-16</td>\n",
       "      <td>-4.234e-16</td>\n",
       "      <td>...</td>\n",
       "      <td>-2.972e-17</td>\n",
       "      <td>4.648e-16</td>\n",
       "      <td>2.115e-17</td>\n",
       "      <td>-9.352e-17</td>\n",
       "      <td>4.771e-16</td>\n",
       "      <td>6.522e-16</td>\n",
       "      <td>6.240e-16</td>\n",
       "      <td>7.727e-16</td>\n",
       "      <td>-2.109e-01</td>\n",
       "      <td>-1.930e-01</td>\n",
       "    </tr>\n",
       "    <tr>\n",
       "      <th>V4</th>\n",
       "      <td>-0.105</td>\n",
       "      <td>1.755e-17</td>\n",
       "      <td>-1.126e-16</td>\n",
       "      <td>-3.417e-16</td>\n",
       "      <td>1.000e+00</td>\n",
       "      <td>-1.941e-15</td>\n",
       "      <td>-2.713e-16</td>\n",
       "      <td>1.556e-16</td>\n",
       "      <td>5.196e-16</td>\n",
       "      <td>3.860e-16</td>\n",
       "      <td>...</td>\n",
       "      <td>-9.977e-17</td>\n",
       "      <td>2.100e-16</td>\n",
       "      <td>6.003e-17</td>\n",
       "      <td>2.230e-16</td>\n",
       "      <td>5.395e-16</td>\n",
       "      <td>-6.180e-16</td>\n",
       "      <td>-6.403e-17</td>\n",
       "      <td>-5.864e-17</td>\n",
       "      <td>9.873e-02</td>\n",
       "      <td>1.334e-01</td>\n",
       "    </tr>\n",
       "    <tr>\n",
       "      <th>V5</th>\n",
       "      <td>0.173</td>\n",
       "      <td>6.391e-17</td>\n",
       "      <td>-2.040e-16</td>\n",
       "      <td>-1.437e-15</td>\n",
       "      <td>-1.941e-15</td>\n",
       "      <td>1.000e+00</td>\n",
       "      <td>7.926e-16</td>\n",
       "      <td>-4.210e-16</td>\n",
       "      <td>7.589e-16</td>\n",
       "      <td>4.205e-16</td>\n",
       "      <td>...</td>\n",
       "      <td>-1.369e-16</td>\n",
       "      <td>5.060e-16</td>\n",
       "      <td>1.638e-16</td>\n",
       "      <td>-9.286e-16</td>\n",
       "      <td>5.625e-16</td>\n",
       "      <td>9.145e-16</td>\n",
       "      <td>4.466e-16</td>\n",
       "      <td>-3.299e-16</td>\n",
       "      <td>-3.864e-01</td>\n",
       "      <td>-9.497e-02</td>\n",
       "    </tr>\n",
       "    <tr>\n",
       "      <th>V6</th>\n",
       "      <td>-0.063</td>\n",
       "      <td>2.398e-16</td>\n",
       "      <td>5.025e-16</td>\n",
       "      <td>1.432e-15</td>\n",
       "      <td>-2.713e-16</td>\n",
       "      <td>7.926e-16</td>\n",
       "      <td>1.000e+00</td>\n",
       "      <td>1.429e-16</td>\n",
       "      <td>-1.707e-16</td>\n",
       "      <td>1.114e-16</td>\n",
       "      <td>...</td>\n",
       "      <td>-1.576e-16</td>\n",
       "      <td>-3.363e-16</td>\n",
       "      <td>-7.232e-17</td>\n",
       "      <td>-1.262e-15</td>\n",
       "      <td>1.082e-15</td>\n",
       "      <td>-2.378e-16</td>\n",
       "      <td>-2.624e-16</td>\n",
       "      <td>4.813e-16</td>\n",
       "      <td>2.160e-01</td>\n",
       "      <td>-4.364e-02</td>\n",
       "    </tr>\n",
       "    <tr>\n",
       "      <th>V7</th>\n",
       "      <td>0.085</td>\n",
       "      <td>1.992e-15</td>\n",
       "      <td>3.966e-16</td>\n",
       "      <td>2.169e-15</td>\n",
       "      <td>1.556e-16</td>\n",
       "      <td>-4.210e-16</td>\n",
       "      <td>1.429e-16</td>\n",
       "      <td>1.000e+00</td>\n",
       "      <td>-8.692e-17</td>\n",
       "      <td>7.933e-16</td>\n",
       "      <td>...</td>\n",
       "      <td>1.939e-16</td>\n",
       "      <td>-1.058e-15</td>\n",
       "      <td>2.328e-16</td>\n",
       "      <td>-2.590e-17</td>\n",
       "      <td>1.174e-15</td>\n",
       "      <td>-7.335e-16</td>\n",
       "      <td>-5.887e-16</td>\n",
       "      <td>-6.837e-17</td>\n",
       "      <td>3.973e-01</td>\n",
       "      <td>-1.873e-01</td>\n",
       "    </tr>\n",
       "    <tr>\n",
       "      <th>V8</th>\n",
       "      <td>-0.037</td>\n",
       "      <td>-9.491e-17</td>\n",
       "      <td>-4.414e-17</td>\n",
       "      <td>3.433e-16</td>\n",
       "      <td>5.196e-16</td>\n",
       "      <td>7.589e-16</td>\n",
       "      <td>-1.707e-16</td>\n",
       "      <td>-8.692e-17</td>\n",
       "      <td>1.000e+00</td>\n",
       "      <td>2.901e-16</td>\n",
       "      <td>...</td>\n",
       "      <td>-2.412e-16</td>\n",
       "      <td>5.476e-16</td>\n",
       "      <td>3.897e-16</td>\n",
       "      <td>-1.803e-16</td>\n",
       "      <td>-1.391e-16</td>\n",
       "      <td>-1.210e-16</td>\n",
       "      <td>1.734e-16</td>\n",
       "      <td>-4.484e-16</td>\n",
       "      <td>-1.031e-01</td>\n",
       "      <td>1.988e-02</td>\n",
       "    </tr>\n",
       "    <tr>\n",
       "      <th>V9</th>\n",
       "      <td>-0.009</td>\n",
       "      <td>2.170e-16</td>\n",
       "      <td>-5.729e-17</td>\n",
       "      <td>-4.234e-16</td>\n",
       "      <td>3.860e-16</td>\n",
       "      <td>4.205e-16</td>\n",
       "      <td>1.114e-16</td>\n",
       "      <td>7.933e-16</td>\n",
       "      <td>2.901e-16</td>\n",
       "      <td>1.000e+00</td>\n",
       "      <td>...</td>\n",
       "      <td>4.578e-17</td>\n",
       "      <td>2.872e-17</td>\n",
       "      <td>5.929e-16</td>\n",
       "      <td>-2.346e-16</td>\n",
       "      <td>1.100e-15</td>\n",
       "      <td>-1.389e-15</td>\n",
       "      <td>-2.287e-16</td>\n",
       "      <td>9.147e-16</td>\n",
       "      <td>-4.425e-02</td>\n",
       "      <td>-9.773e-02</td>\n",
       "    </tr>\n",
       "    <tr>\n",
       "      <th>V10</th>\n",
       "      <td>0.031</td>\n",
       "      <td>7.434e-17</td>\n",
       "      <td>-4.782e-16</td>\n",
       "      <td>6.289e-16</td>\n",
       "      <td>6.055e-16</td>\n",
       "      <td>-6.602e-16</td>\n",
       "      <td>2.851e-16</td>\n",
       "      <td>3.043e-17</td>\n",
       "      <td>9.052e-17</td>\n",
       "      <td>-2.772e-16</td>\n",
       "      <td>...</td>\n",
       "      <td>8.090e-16</td>\n",
       "      <td>-6.708e-16</td>\n",
       "      <td>3.810e-16</td>\n",
       "      <td>-4.033e-17</td>\n",
       "      <td>-2.864e-16</td>\n",
       "      <td>-2.554e-16</td>\n",
       "      <td>-3.103e-16</td>\n",
       "      <td>-1.516e-16</td>\n",
       "      <td>-1.015e-01</td>\n",
       "      <td>-2.169e-01</td>\n",
       "    </tr>\n",
       "    <tr>\n",
       "      <th>V11</th>\n",
       "      <td>-0.248</td>\n",
       "      <td>2.439e-16</td>\n",
       "      <td>9.469e-16</td>\n",
       "      <td>-5.502e-17</td>\n",
       "      <td>-2.084e-16</td>\n",
       "      <td>7.343e-16</td>\n",
       "      <td>4.866e-16</td>\n",
       "      <td>-1.084e-15</td>\n",
       "      <td>1.955e-16</td>\n",
       "      <td>4.682e-16</td>\n",
       "      <td>...</td>\n",
       "      <td>-3.912e-16</td>\n",
       "      <td>-3.812e-17</td>\n",
       "      <td>2.232e-16</td>\n",
       "      <td>1.220e-15</td>\n",
       "      <td>-4.568e-16</td>\n",
       "      <td>-1.111e-16</td>\n",
       "      <td>-2.636e-16</td>\n",
       "      <td>-3.092e-16</td>\n",
       "      <td>1.040e-04</td>\n",
       "      <td>1.549e-01</td>\n",
       "    </tr>\n",
       "    <tr>\n",
       "      <th>V12</th>\n",
       "      <td>0.124</td>\n",
       "      <td>2.422e-16</td>\n",
       "      <td>-6.588e-16</td>\n",
       "      <td>2.207e-16</td>\n",
       "      <td>-5.658e-16</td>\n",
       "      <td>3.761e-16</td>\n",
       "      <td>2.141e-16</td>\n",
       "      <td>1.510e-15</td>\n",
       "      <td>-6.266e-17</td>\n",
       "      <td>-2.445e-15</td>\n",
       "      <td>...</td>\n",
       "      <td>3.230e-16</td>\n",
       "      <td>-5.904e-16</td>\n",
       "      <td>1.392e-16</td>\n",
       "      <td>4.902e-16</td>\n",
       "      <td>5.054e-16</td>\n",
       "      <td>-5.759e-16</td>\n",
       "      <td>-2.313e-16</td>\n",
       "      <td>7.327e-16</td>\n",
       "      <td>-9.542e-03</td>\n",
       "      <td>-2.606e-01</td>\n",
       "    </tr>\n",
       "    <tr>\n",
       "      <th>V13</th>\n",
       "      <td>-0.066</td>\n",
       "      <td>-2.115e-16</td>\n",
       "      <td>3.855e-16</td>\n",
       "      <td>-6.883e-16</td>\n",
       "      <td>-1.506e-16</td>\n",
       "      <td>-9.579e-16</td>\n",
       "      <td>-2.268e-16</td>\n",
       "      <td>-9.892e-17</td>\n",
       "      <td>-2.383e-16</td>\n",
       "      <td>-2.650e-16</td>\n",
       "      <td>...</td>\n",
       "      <td>9.499e-17</td>\n",
       "      <td>-2.660e-17</td>\n",
       "      <td>-5.884e-16</td>\n",
       "      <td>-5.471e-16</td>\n",
       "      <td>8.067e-17</td>\n",
       "      <td>-2.122e-16</td>\n",
       "      <td>-4.520e-16</td>\n",
       "      <td>1.050e-15</td>\n",
       "      <td>5.293e-03</td>\n",
       "      <td>-4.570e-03</td>\n",
       "    </tr>\n",
       "    <tr>\n",
       "      <th>V14</th>\n",
       "      <td>-0.099</td>\n",
       "      <td>9.353e-16</td>\n",
       "      <td>-2.541e-16</td>\n",
       "      <td>4.271e-16</td>\n",
       "      <td>-8.522e-17</td>\n",
       "      <td>-3.635e-16</td>\n",
       "      <td>3.453e-16</td>\n",
       "      <td>-1.729e-16</td>\n",
       "      <td>-1.131e-16</td>\n",
       "      <td>2.343e-16</td>\n",
       "      <td>...</td>\n",
       "      <td>1.634e-17</td>\n",
       "      <td>3.440e-16</td>\n",
       "      <td>7.621e-17</td>\n",
       "      <td>2.336e-16</td>\n",
       "      <td>-2.607e-16</td>\n",
       "      <td>-6.580e-18</td>\n",
       "      <td>1.286e-16</td>\n",
       "      <td>2.503e-15</td>\n",
       "      <td>3.375e-02</td>\n",
       "      <td>-3.025e-01</td>\n",
       "    </tr>\n",
       "    <tr>\n",
       "      <th>V15</th>\n",
       "      <td>-0.183</td>\n",
       "      <td>-3.252e-16</td>\n",
       "      <td>2.831e-16</td>\n",
       "      <td>1.123e-16</td>\n",
       "      <td>-1.508e-16</td>\n",
       "      <td>-5.133e-16</td>\n",
       "      <td>-6.368e-18</td>\n",
       "      <td>1.937e-17</td>\n",
       "      <td>2.021e-16</td>\n",
       "      <td>-1.588e-15</td>\n",
       "      <td>...</td>\n",
       "      <td>1.947e-17</td>\n",
       "      <td>-8.937e-16</td>\n",
       "      <td>1.120e-16</td>\n",
       "      <td>-4.590e-16</td>\n",
       "      <td>3.870e-16</td>\n",
       "      <td>3.761e-16</td>\n",
       "      <td>-1.265e-15</td>\n",
       "      <td>-1.063e-15</td>\n",
       "      <td>-2.986e-03</td>\n",
       "      <td>-4.223e-03</td>\n",
       "    </tr>\n",
       "    <tr>\n",
       "      <th>V16</th>\n",
       "      <td>0.012</td>\n",
       "      <td>6.309e-16</td>\n",
       "      <td>4.934e-17</td>\n",
       "      <td>1.183e-15</td>\n",
       "      <td>-6.939e-16</td>\n",
       "      <td>-3.517e-16</td>\n",
       "      <td>-2.478e-16</td>\n",
       "      <td>2.894e-16</td>\n",
       "      <td>5.027e-16</td>\n",
       "      <td>-3.252e-16</td>\n",
       "      <td>...</td>\n",
       "      <td>-3.927e-16</td>\n",
       "      <td>3.878e-17</td>\n",
       "      <td>8.520e-16</td>\n",
       "      <td>-4.289e-16</td>\n",
       "      <td>-6.644e-16</td>\n",
       "      <td>-5.187e-16</td>\n",
       "      <td>7.820e-16</td>\n",
       "      <td>8.637e-16</td>\n",
       "      <td>-3.910e-03</td>\n",
       "      <td>-1.965e-01</td>\n",
       "    </tr>\n",
       "    <tr>\n",
       "      <th>V17</th>\n",
       "      <td>-0.073</td>\n",
       "      <td>-5.012e-16</td>\n",
       "      <td>-9.883e-16</td>\n",
       "      <td>4.577e-17</td>\n",
       "      <td>-4.398e-16</td>\n",
       "      <td>1.426e-16</td>\n",
       "      <td>3.568e-16</td>\n",
       "      <td>1.150e-15</td>\n",
       "      <td>-3.509e-16</td>\n",
       "      <td>6.536e-16</td>\n",
       "      <td>...</td>\n",
       "      <td>-7.754e-16</td>\n",
       "      <td>-8.390e-16</td>\n",
       "      <td>5.368e-16</td>\n",
       "      <td>-5.544e-17</td>\n",
       "      <td>4.822e-16</td>\n",
       "      <td>4.870e-16</td>\n",
       "      <td>8.844e-16</td>\n",
       "      <td>-2.183e-16</td>\n",
       "      <td>7.309e-03</td>\n",
       "      <td>-3.265e-01</td>\n",
       "    </tr>\n",
       "    <tr>\n",
       "      <th>V18</th>\n",
       "      <td>0.090</td>\n",
       "      <td>2.870e-16</td>\n",
       "      <td>2.637e-16</td>\n",
       "      <td>5.428e-16</td>\n",
       "      <td>1.494e-16</td>\n",
       "      <td>1.110e-15</td>\n",
       "      <td>2.811e-16</td>\n",
       "      <td>-1.117e-16</td>\n",
       "      <td>-4.094e-16</td>\n",
       "      <td>1.204e-16</td>\n",
       "      <td>...</td>\n",
       "      <td>-1.141e-15</td>\n",
       "      <td>-8.663e-17</td>\n",
       "      <td>-3.624e-16</td>\n",
       "      <td>-1.126e-16</td>\n",
       "      <td>-2.311e-16</td>\n",
       "      <td>3.184e-16</td>\n",
       "      <td>2.435e-16</td>\n",
       "      <td>8.845e-16</td>\n",
       "      <td>3.565e-02</td>\n",
       "      <td>-1.115e-01</td>\n",
       "    </tr>\n",
       "    <tr>\n",
       "      <th>V19</th>\n",
       "      <td>0.029</td>\n",
       "      <td>1.818e-16</td>\n",
       "      <td>9.528e-17</td>\n",
       "      <td>2.577e-16</td>\n",
       "      <td>-2.657e-16</td>\n",
       "      <td>-3.138e-16</td>\n",
       "      <td>2.717e-16</td>\n",
       "      <td>-2.874e-16</td>\n",
       "      <td>-5.340e-16</td>\n",
       "      <td>1.121e-16</td>\n",
       "      <td>...</td>\n",
       "      <td>4.033e-16</td>\n",
       "      <td>-9.690e-16</td>\n",
       "      <td>5.734e-16</td>\n",
       "      <td>3.127e-17</td>\n",
       "      <td>7.415e-16</td>\n",
       "      <td>5.614e-16</td>\n",
       "      <td>-1.113e-16</td>\n",
       "      <td>-1.376e-15</td>\n",
       "      <td>-5.615e-02</td>\n",
       "      <td>3.478e-02</td>\n",
       "    </tr>\n",
       "    <tr>\n",
       "      <th>V20</th>\n",
       "      <td>-0.051</td>\n",
       "      <td>1.037e-16</td>\n",
       "      <td>-9.310e-16</td>\n",
       "      <td>-9.429e-16</td>\n",
       "      <td>-3.223e-16</td>\n",
       "      <td>2.076e-16</td>\n",
       "      <td>1.899e-16</td>\n",
       "      <td>1.744e-16</td>\n",
       "      <td>-1.096e-16</td>\n",
       "      <td>-4.341e-16</td>\n",
       "      <td>...</td>\n",
       "      <td>-1.121e-15</td>\n",
       "      <td>1.106e-15</td>\n",
       "      <td>4.987e-16</td>\n",
       "      <td>1.637e-16</td>\n",
       "      <td>-1.518e-16</td>\n",
       "      <td>-2.975e-16</td>\n",
       "      <td>-1.446e-15</td>\n",
       "      <td>-1.134e-16</td>\n",
       "      <td>3.394e-01</td>\n",
       "      <td>2.009e-02</td>\n",
       "    </tr>\n",
       "    <tr>\n",
       "      <th>V21</th>\n",
       "      <td>0.045</td>\n",
       "      <td>-1.755e-16</td>\n",
       "      <td>8.444e-17</td>\n",
       "      <td>-2.972e-17</td>\n",
       "      <td>-9.977e-17</td>\n",
       "      <td>-1.369e-16</td>\n",
       "      <td>-1.576e-16</td>\n",
       "      <td>1.939e-16</td>\n",
       "      <td>-2.412e-16</td>\n",
       "      <td>4.578e-17</td>\n",
       "      <td>...</td>\n",
       "      <td>1.000e+00</td>\n",
       "      <td>3.906e-15</td>\n",
       "      <td>6.127e-16</td>\n",
       "      <td>1.298e-16</td>\n",
       "      <td>-2.826e-16</td>\n",
       "      <td>-4.907e-16</td>\n",
       "      <td>-1.033e-15</td>\n",
       "      <td>5.132e-16</td>\n",
       "      <td>1.060e-01</td>\n",
       "      <td>4.041e-02</td>\n",
       "    </tr>\n",
       "    <tr>\n",
       "      <th>V22</th>\n",
       "      <td>0.144</td>\n",
       "      <td>7.477e-17</td>\n",
       "      <td>2.501e-16</td>\n",
       "      <td>4.648e-16</td>\n",
       "      <td>2.100e-16</td>\n",
       "      <td>5.060e-16</td>\n",
       "      <td>-3.363e-16</td>\n",
       "      <td>-1.058e-15</td>\n",
       "      <td>5.476e-16</td>\n",
       "      <td>2.872e-17</td>\n",
       "      <td>...</td>\n",
       "      <td>3.906e-15</td>\n",
       "      <td>1.000e+00</td>\n",
       "      <td>3.131e-16</td>\n",
       "      <td>1.151e-17</td>\n",
       "      <td>-6.079e-16</td>\n",
       "      <td>-8.477e-16</td>\n",
       "      <td>-1.295e-16</td>\n",
       "      <td>-3.021e-16</td>\n",
       "      <td>-6.480e-02</td>\n",
       "      <td>8.053e-04</td>\n",
       "    </tr>\n",
       "    <tr>\n",
       "      <th>V23</th>\n",
       "      <td>0.051</td>\n",
       "      <td>9.809e-16</td>\n",
       "      <td>1.060e-16</td>\n",
       "      <td>2.115e-17</td>\n",
       "      <td>6.003e-17</td>\n",
       "      <td>1.638e-16</td>\n",
       "      <td>-7.232e-17</td>\n",
       "      <td>2.328e-16</td>\n",
       "      <td>3.897e-16</td>\n",
       "      <td>5.929e-16</td>\n",
       "      <td>...</td>\n",
       "      <td>6.127e-16</td>\n",
       "      <td>3.131e-16</td>\n",
       "      <td>1.000e+00</td>\n",
       "      <td>-4.411e-17</td>\n",
       "      <td>-9.938e-16</td>\n",
       "      <td>8.849e-16</td>\n",
       "      <td>5.524e-16</td>\n",
       "      <td>9.030e-16</td>\n",
       "      <td>-1.126e-01</td>\n",
       "      <td>-2.685e-03</td>\n",
       "    </tr>\n",
       "    <tr>\n",
       "      <th>V24</th>\n",
       "      <td>-0.016</td>\n",
       "      <td>7.354e-17</td>\n",
       "      <td>-8.142e-18</td>\n",
       "      <td>-9.352e-17</td>\n",
       "      <td>2.230e-16</td>\n",
       "      <td>-9.286e-16</td>\n",
       "      <td>-1.262e-15</td>\n",
       "      <td>-2.590e-17</td>\n",
       "      <td>-1.803e-16</td>\n",
       "      <td>-2.346e-16</td>\n",
       "      <td>...</td>\n",
       "      <td>1.298e-16</td>\n",
       "      <td>1.151e-17</td>\n",
       "      <td>-4.411e-17</td>\n",
       "      <td>1.000e+00</td>\n",
       "      <td>1.557e-15</td>\n",
       "      <td>3.129e-16</td>\n",
       "      <td>-3.737e-16</td>\n",
       "      <td>-2.259e-16</td>\n",
       "      <td>5.146e-03</td>\n",
       "      <td>-7.221e-03</td>\n",
       "    </tr>\n",
       "    <tr>\n",
       "      <th>V25</th>\n",
       "      <td>-0.233</td>\n",
       "      <td>-9.805e-16</td>\n",
       "      <td>-4.262e-17</td>\n",
       "      <td>4.771e-16</td>\n",
       "      <td>5.395e-16</td>\n",
       "      <td>5.625e-16</td>\n",
       "      <td>1.082e-15</td>\n",
       "      <td>1.174e-15</td>\n",
       "      <td>-1.391e-16</td>\n",
       "      <td>1.100e-15</td>\n",
       "      <td>...</td>\n",
       "      <td>-2.826e-16</td>\n",
       "      <td>-6.079e-16</td>\n",
       "      <td>-9.938e-16</td>\n",
       "      <td>1.557e-15</td>\n",
       "      <td>1.000e+00</td>\n",
       "      <td>2.811e-15</td>\n",
       "      <td>-6.107e-16</td>\n",
       "      <td>3.399e-16</td>\n",
       "      <td>-4.784e-02</td>\n",
       "      <td>3.308e-03</td>\n",
       "    </tr>\n",
       "    <tr>\n",
       "      <th>V26</th>\n",
       "      <td>-0.041</td>\n",
       "      <td>-8.622e-17</td>\n",
       "      <td>2.602e-16</td>\n",
       "      <td>6.522e-16</td>\n",
       "      <td>-6.180e-16</td>\n",
       "      <td>9.145e-16</td>\n",
       "      <td>-2.378e-16</td>\n",
       "      <td>-7.335e-16</td>\n",
       "      <td>-1.210e-16</td>\n",
       "      <td>-1.389e-15</td>\n",
       "      <td>...</td>\n",
       "      <td>-4.907e-16</td>\n",
       "      <td>-8.477e-16</td>\n",
       "      <td>8.849e-16</td>\n",
       "      <td>3.129e-16</td>\n",
       "      <td>2.811e-15</td>\n",
       "      <td>1.000e+00</td>\n",
       "      <td>-3.384e-16</td>\n",
       "      <td>-3.751e-16</td>\n",
       "      <td>-3.208e-03</td>\n",
       "      <td>4.455e-03</td>\n",
       "    </tr>\n",
       "    <tr>\n",
       "      <th>V27</th>\n",
       "      <td>-0.005</td>\n",
       "      <td>3.208e-17</td>\n",
       "      <td>-4.478e-16</td>\n",
       "      <td>6.240e-16</td>\n",
       "      <td>-6.403e-17</td>\n",
       "      <td>4.466e-16</td>\n",
       "      <td>-2.624e-16</td>\n",
       "      <td>-5.887e-16</td>\n",
       "      <td>1.734e-16</td>\n",
       "      <td>-2.287e-16</td>\n",
       "      <td>...</td>\n",
       "      <td>-1.033e-15</td>\n",
       "      <td>-1.295e-16</td>\n",
       "      <td>5.524e-16</td>\n",
       "      <td>-3.737e-16</td>\n",
       "      <td>-6.107e-16</td>\n",
       "      <td>-3.384e-16</td>\n",
       "      <td>1.000e+00</td>\n",
       "      <td>-3.770e-16</td>\n",
       "      <td>2.883e-02</td>\n",
       "      <td>1.758e-02</td>\n",
       "    </tr>\n",
       "    <tr>\n",
       "      <th>V28</th>\n",
       "      <td>-0.009</td>\n",
       "      <td>9.821e-16</td>\n",
       "      <td>-3.676e-16</td>\n",
       "      <td>7.727e-16</td>\n",
       "      <td>-5.864e-17</td>\n",
       "      <td>-3.299e-16</td>\n",
       "      <td>4.813e-16</td>\n",
       "      <td>-6.837e-17</td>\n",
       "      <td>-4.484e-16</td>\n",
       "      <td>9.147e-16</td>\n",
       "      <td>...</td>\n",
       "      <td>5.132e-16</td>\n",
       "      <td>-3.021e-16</td>\n",
       "      <td>9.030e-16</td>\n",
       "      <td>-2.259e-16</td>\n",
       "      <td>3.399e-16</td>\n",
       "      <td>-3.751e-16</td>\n",
       "      <td>-3.770e-16</td>\n",
       "      <td>1.000e+00</td>\n",
       "      <td>1.026e-02</td>\n",
       "      <td>9.536e-03</td>\n",
       "    </tr>\n",
       "    <tr>\n",
       "      <th>Amount</th>\n",
       "      <td>-0.011</td>\n",
       "      <td>-2.277e-01</td>\n",
       "      <td>-5.314e-01</td>\n",
       "      <td>-2.109e-01</td>\n",
       "      <td>9.873e-02</td>\n",
       "      <td>-3.864e-01</td>\n",
       "      <td>2.160e-01</td>\n",
       "      <td>3.973e-01</td>\n",
       "      <td>-1.031e-01</td>\n",
       "      <td>-4.425e-02</td>\n",
       "      <td>...</td>\n",
       "      <td>1.060e-01</td>\n",
       "      <td>-6.480e-02</td>\n",
       "      <td>-1.126e-01</td>\n",
       "      <td>5.146e-03</td>\n",
       "      <td>-4.784e-02</td>\n",
       "      <td>-3.208e-03</td>\n",
       "      <td>2.883e-02</td>\n",
       "      <td>1.026e-02</td>\n",
       "      <td>1.000e+00</td>\n",
       "      <td>5.632e-03</td>\n",
       "    </tr>\n",
       "    <tr>\n",
       "      <th>Class</th>\n",
       "      <td>-0.012</td>\n",
       "      <td>-1.013e-01</td>\n",
       "      <td>9.129e-02</td>\n",
       "      <td>-1.930e-01</td>\n",
       "      <td>1.334e-01</td>\n",
       "      <td>-9.497e-02</td>\n",
       "      <td>-4.364e-02</td>\n",
       "      <td>-1.873e-01</td>\n",
       "      <td>1.988e-02</td>\n",
       "      <td>-9.773e-02</td>\n",
       "      <td>...</td>\n",
       "      <td>4.041e-02</td>\n",
       "      <td>8.053e-04</td>\n",
       "      <td>-2.685e-03</td>\n",
       "      <td>-7.221e-03</td>\n",
       "      <td>3.308e-03</td>\n",
       "      <td>4.455e-03</td>\n",
       "      <td>1.758e-02</td>\n",
       "      <td>9.536e-03</td>\n",
       "      <td>5.632e-03</td>\n",
       "      <td>1.000e+00</td>\n",
       "    </tr>\n",
       "  </tbody>\n",
       "</table>\n",
       "<p>31 rows × 31 columns</p>\n",
       "</div>"
      ],
      "text/plain": [
       "         Time         V1         V2         V3         V4         V5  \\\n",
       "Time    1.000  1.174e-01 -1.059e-02 -4.196e-01 -1.053e-01  1.731e-01   \n",
       "V1      0.117  1.000e+00  4.697e-17 -1.424e-15  1.755e-17  6.391e-17   \n",
       "V2     -0.011  4.697e-17  1.000e+00  2.512e-16 -1.126e-16 -2.040e-16   \n",
       "V3     -0.420 -1.424e-15  2.512e-16  1.000e+00 -3.417e-16 -1.437e-15   \n",
       "V4     -0.105  1.755e-17 -1.126e-16 -3.417e-16  1.000e+00 -1.941e-15   \n",
       "V5      0.173  6.391e-17 -2.040e-16 -1.437e-15 -1.941e-15  1.000e+00   \n",
       "V6     -0.063  2.398e-16  5.025e-16  1.432e-15 -2.713e-16  7.926e-16   \n",
       "V7      0.085  1.992e-15  3.966e-16  2.169e-15  1.556e-16 -4.210e-16   \n",
       "V8     -0.037 -9.491e-17 -4.414e-17  3.433e-16  5.196e-16  7.589e-16   \n",
       "V9     -0.009  2.170e-16 -5.729e-17 -4.234e-16  3.860e-16  4.205e-16   \n",
       "V10     0.031  7.434e-17 -4.782e-16  6.289e-16  6.055e-16 -6.602e-16   \n",
       "V11    -0.248  2.439e-16  9.469e-16 -5.502e-17 -2.084e-16  7.343e-16   \n",
       "V12     0.124  2.422e-16 -6.588e-16  2.207e-16 -5.658e-16  3.761e-16   \n",
       "V13    -0.066 -2.115e-16  3.855e-16 -6.883e-16 -1.506e-16 -9.579e-16   \n",
       "V14    -0.099  9.353e-16 -2.541e-16  4.271e-16 -8.522e-17 -3.635e-16   \n",
       "V15    -0.183 -3.252e-16  2.831e-16  1.123e-16 -1.508e-16 -5.133e-16   \n",
       "V16     0.012  6.309e-16  4.934e-17  1.183e-15 -6.939e-16 -3.517e-16   \n",
       "V17    -0.073 -5.012e-16 -9.883e-16  4.577e-17 -4.398e-16  1.426e-16   \n",
       "V18     0.090  2.870e-16  2.637e-16  5.428e-16  1.494e-16  1.110e-15   \n",
       "V19     0.029  1.818e-16  9.528e-17  2.577e-16 -2.657e-16 -3.138e-16   \n",
       "V20    -0.051  1.037e-16 -9.310e-16 -9.429e-16 -3.223e-16  2.076e-16   \n",
       "V21     0.045 -1.755e-16  8.444e-17 -2.972e-17 -9.977e-17 -1.369e-16   \n",
       "V22     0.144  7.477e-17  2.501e-16  4.648e-16  2.100e-16  5.060e-16   \n",
       "V23     0.051  9.809e-16  1.060e-16  2.115e-17  6.003e-17  1.638e-16   \n",
       "V24    -0.016  7.354e-17 -8.142e-18 -9.352e-17  2.230e-16 -9.286e-16   \n",
       "V25    -0.233 -9.805e-16 -4.262e-17  4.771e-16  5.395e-16  5.625e-16   \n",
       "V26    -0.041 -8.622e-17  2.602e-16  6.522e-16 -6.180e-16  9.145e-16   \n",
       "V27    -0.005  3.208e-17 -4.478e-16  6.240e-16 -6.403e-17  4.466e-16   \n",
       "V28    -0.009  9.821e-16 -3.676e-16  7.727e-16 -5.864e-17 -3.299e-16   \n",
       "Amount -0.011 -2.277e-01 -5.314e-01 -2.109e-01  9.873e-02 -3.864e-01   \n",
       "Class  -0.012 -1.013e-01  9.129e-02 -1.930e-01  1.334e-01 -9.497e-02   \n",
       "\n",
       "               V6         V7         V8         V9    ...            V21  \\\n",
       "Time   -6.302e-02  8.471e-02 -3.695e-02 -8.660e-03    ...      4.474e-02   \n",
       "V1      2.398e-16  1.992e-15 -9.491e-17  2.170e-16    ...     -1.755e-16   \n",
       "V2      5.025e-16  3.966e-16 -4.414e-17 -5.729e-17    ...      8.444e-17   \n",
       "V3      1.432e-15  2.169e-15  3.433e-16 -4.234e-16    ...     -2.972e-17   \n",
       "V4     -2.713e-16  1.556e-16  5.196e-16  3.860e-16    ...     -9.977e-17   \n",
       "V5      7.926e-16 -4.210e-16  7.589e-16  4.205e-16    ...     -1.369e-16   \n",
       "V6      1.000e+00  1.429e-16 -1.707e-16  1.114e-16    ...     -1.576e-16   \n",
       "V7      1.429e-16  1.000e+00 -8.692e-17  7.933e-16    ...      1.939e-16   \n",
       "V8     -1.707e-16 -8.692e-17  1.000e+00  2.901e-16    ...     -2.412e-16   \n",
       "V9      1.114e-16  7.933e-16  2.901e-16  1.000e+00    ...      4.578e-17   \n",
       "V10     2.851e-16  3.043e-17  9.052e-17 -2.772e-16    ...      8.090e-16   \n",
       "V11     4.866e-16 -1.084e-15  1.955e-16  4.682e-16    ...     -3.912e-16   \n",
       "V12     2.141e-16  1.510e-15 -6.266e-17 -2.445e-15    ...      3.230e-16   \n",
       "V13    -2.268e-16 -9.892e-17 -2.383e-16 -2.650e-16    ...      9.499e-17   \n",
       "V14     3.453e-16 -1.729e-16 -1.131e-16  2.343e-16    ...      1.634e-17   \n",
       "V15    -6.368e-18  1.937e-17  2.021e-16 -1.588e-15    ...      1.947e-17   \n",
       "V16    -2.478e-16  2.894e-16  5.027e-16 -3.252e-16    ...     -3.927e-16   \n",
       "V17     3.568e-16  1.150e-15 -3.509e-16  6.536e-16    ...     -7.754e-16   \n",
       "V18     2.811e-16 -1.117e-16 -4.094e-16  1.204e-16    ...     -1.141e-15   \n",
       "V19     2.717e-16 -2.874e-16 -5.340e-16  1.121e-16    ...      4.033e-16   \n",
       "V20     1.899e-16  1.744e-16 -1.096e-16 -4.341e-16    ...     -1.121e-15   \n",
       "V21    -1.576e-16  1.939e-16 -2.412e-16  4.578e-17    ...      1.000e+00   \n",
       "V22    -3.363e-16 -1.058e-15  5.476e-16  2.872e-17    ...      3.906e-15   \n",
       "V23    -7.232e-17  2.328e-16  3.897e-16  5.929e-16    ...      6.127e-16   \n",
       "V24    -1.262e-15 -2.590e-17 -1.803e-16 -2.346e-16    ...      1.298e-16   \n",
       "V25     1.082e-15  1.174e-15 -1.391e-16  1.100e-15    ...     -2.826e-16   \n",
       "V26    -2.378e-16 -7.335e-16 -1.210e-16 -1.389e-15    ...     -4.907e-16   \n",
       "V27    -2.624e-16 -5.887e-16  1.734e-16 -2.287e-16    ...     -1.033e-15   \n",
       "V28     4.813e-16 -6.837e-17 -4.484e-16  9.147e-16    ...      5.132e-16   \n",
       "Amount  2.160e-01  3.973e-01 -1.031e-01 -4.425e-02    ...      1.060e-01   \n",
       "Class  -4.364e-02 -1.873e-01  1.988e-02 -9.773e-02    ...      4.041e-02   \n",
       "\n",
       "              V22        V23        V24        V25        V26        V27  \\\n",
       "Time    1.441e-01  5.114e-02 -1.618e-02 -2.331e-01 -4.141e-02 -5.135e-03   \n",
       "V1      7.477e-17  9.809e-16  7.354e-17 -9.805e-16 -8.622e-17  3.208e-17   \n",
       "V2      2.501e-16  1.060e-16 -8.142e-18 -4.262e-17  2.602e-16 -4.478e-16   \n",
       "V3      4.648e-16  2.115e-17 -9.352e-17  4.771e-16  6.522e-16  6.240e-16   \n",
       "V4      2.100e-16  6.003e-17  2.230e-16  5.395e-16 -6.180e-16 -6.403e-17   \n",
       "V5      5.060e-16  1.638e-16 -9.286e-16  5.625e-16  9.145e-16  4.466e-16   \n",
       "V6     -3.363e-16 -7.232e-17 -1.262e-15  1.082e-15 -2.378e-16 -2.624e-16   \n",
       "V7     -1.058e-15  2.328e-16 -2.590e-17  1.174e-15 -7.335e-16 -5.887e-16   \n",
       "V8      5.476e-16  3.897e-16 -1.803e-16 -1.391e-16 -1.210e-16  1.734e-16   \n",
       "V9      2.872e-17  5.929e-16 -2.346e-16  1.100e-15 -1.389e-15 -2.287e-16   \n",
       "V10    -6.708e-16  3.810e-16 -4.033e-17 -2.864e-16 -2.554e-16 -3.103e-16   \n",
       "V11    -3.812e-17  2.232e-16  1.220e-15 -4.568e-16 -1.111e-16 -2.636e-16   \n",
       "V12    -5.904e-16  1.392e-16  4.902e-16  5.054e-16 -5.759e-16 -2.313e-16   \n",
       "V13    -2.660e-17 -5.884e-16 -5.471e-16  8.067e-17 -2.122e-16 -4.520e-16   \n",
       "V14     3.440e-16  7.621e-17  2.336e-16 -2.607e-16 -6.580e-18  1.286e-16   \n",
       "V15    -8.937e-16  1.120e-16 -4.590e-16  3.870e-16  3.761e-16 -1.265e-15   \n",
       "V16     3.878e-17  8.520e-16 -4.289e-16 -6.644e-16 -5.187e-16  7.820e-16   \n",
       "V17    -8.390e-16  5.368e-16 -5.544e-17  4.822e-16  4.870e-16  8.844e-16   \n",
       "V18    -8.663e-17 -3.624e-16 -1.126e-16 -2.311e-16  3.184e-16  2.435e-16   \n",
       "V19    -9.690e-16  5.734e-16  3.127e-17  7.415e-16  5.614e-16 -1.113e-16   \n",
       "V20     1.106e-15  4.987e-16  1.637e-16 -1.518e-16 -2.975e-16 -1.446e-15   \n",
       "V21     3.906e-15  6.127e-16  1.298e-16 -2.826e-16 -4.907e-16 -1.033e-15   \n",
       "V22     1.000e+00  3.131e-16  1.151e-17 -6.079e-16 -8.477e-16 -1.295e-16   \n",
       "V23     3.131e-16  1.000e+00 -4.411e-17 -9.938e-16  8.849e-16  5.524e-16   \n",
       "V24     1.151e-17 -4.411e-17  1.000e+00  1.557e-15  3.129e-16 -3.737e-16   \n",
       "V25    -6.079e-16 -9.938e-16  1.557e-15  1.000e+00  2.811e-15 -6.107e-16   \n",
       "V26    -8.477e-16  8.849e-16  3.129e-16  2.811e-15  1.000e+00 -3.384e-16   \n",
       "V27    -1.295e-16  5.524e-16 -3.737e-16 -6.107e-16 -3.384e-16  1.000e+00   \n",
       "V28    -3.021e-16  9.030e-16 -2.259e-16  3.399e-16 -3.751e-16 -3.770e-16   \n",
       "Amount -6.480e-02 -1.126e-01  5.146e-03 -4.784e-02 -3.208e-03  2.883e-02   \n",
       "Class   8.053e-04 -2.685e-03 -7.221e-03  3.308e-03  4.455e-03  1.758e-02   \n",
       "\n",
       "              V28     Amount      Class  \n",
       "Time   -9.413e-03 -1.060e-02 -1.232e-02  \n",
       "V1      9.821e-16 -2.277e-01 -1.013e-01  \n",
       "V2     -3.676e-16 -5.314e-01  9.129e-02  \n",
       "V3      7.727e-16 -2.109e-01 -1.930e-01  \n",
       "V4     -5.864e-17  9.873e-02  1.334e-01  \n",
       "V5     -3.299e-16 -3.864e-01 -9.497e-02  \n",
       "V6      4.813e-16  2.160e-01 -4.364e-02  \n",
       "V7     -6.837e-17  3.973e-01 -1.873e-01  \n",
       "V8     -4.484e-16 -1.031e-01  1.988e-02  \n",
       "V9      9.147e-16 -4.425e-02 -9.773e-02  \n",
       "V10    -1.516e-16 -1.015e-01 -2.169e-01  \n",
       "V11    -3.092e-16  1.040e-04  1.549e-01  \n",
       "V12     7.327e-16 -9.542e-03 -2.606e-01  \n",
       "V13     1.050e-15  5.293e-03 -4.570e-03  \n",
       "V14     2.503e-15  3.375e-02 -3.025e-01  \n",
       "V15    -1.063e-15 -2.986e-03 -4.223e-03  \n",
       "V16     8.637e-16 -3.910e-03 -1.965e-01  \n",
       "V17    -2.183e-16  7.309e-03 -3.265e-01  \n",
       "V18     8.845e-16  3.565e-02 -1.115e-01  \n",
       "V19    -1.376e-15 -5.615e-02  3.478e-02  \n",
       "V20    -1.134e-16  3.394e-01  2.009e-02  \n",
       "V21     5.132e-16  1.060e-01  4.041e-02  \n",
       "V22    -3.021e-16 -6.480e-02  8.053e-04  \n",
       "V23     9.030e-16 -1.126e-01 -2.685e-03  \n",
       "V24    -2.259e-16  5.146e-03 -7.221e-03  \n",
       "V25     3.399e-16 -4.784e-02  3.308e-03  \n",
       "V26    -3.751e-16 -3.208e-03  4.455e-03  \n",
       "V27    -3.770e-16  2.883e-02  1.758e-02  \n",
       "V28     1.000e+00  1.026e-02  9.536e-03  \n",
       "Amount  1.026e-02  1.000e+00  5.632e-03  \n",
       "Class   9.536e-03  5.632e-03  1.000e+00  \n",
       "\n",
       "[31 rows x 31 columns]"
      ]
     },
     "execution_count": 21,
     "metadata": {},
     "output_type": "execute_result"
    }
   ],
   "source": [
    "df_corr=df.corr()\n",
    "df_corr"
   ]
  },
  {
   "cell_type": "code",
   "execution_count": 22,
   "metadata": {},
   "outputs": [
    {
     "data": {
      "text/plain": [
       "Text(0.5, 1.0, 'Heatmap of Correlation')"
      ]
     },
     "execution_count": 22,
     "metadata": {},
     "output_type": "execute_result"
    },
    {
     "data": {
      "image/png": "[encoded data removed]",
      "text/plain": [
       "<Figure size 864x720 with 2 Axes>"
      ]
     },
     "metadata": {
      "needs_background": "light"
     },
     "output_type": "display_data"
    }
   ],
   "source": [
    "# Heatmap\n",
    "df_corr = df.corr()\n",
    "plt.figure(figsize=(12,10))\n",
    "heat = sns.heatmap(data=df_corr,cmap=\"YlGnBu\")\n",
    "plt.title('Heatmap of Correlation')"
   ]
  },
  {
   "cell_type": "markdown",
   "metadata": {},
   "source": [
    "__Observations__\n",
    "1. There is no strong corelation between variable of data set, this confirms that PCA(Principal Component Analysis) has been performed in the data set.\n"
   ]
  },
  {
   "cell_type": "code",
   "execution_count": 23,
   "metadata": {},
   "outputs": [],
   "source": [
    "rank = df_corr['Class'] # Retrieving the correlation coefficients per feature in relation to the feature class\n",
    "df_rank = pd.DataFrame(rank) \n",
    "df_rank = np.abs(df_rank).sort_values(by='Class',ascending=False) # Ranking the absolute values of the coefficients\n",
    "                                                                  # in descending order\n",
    "df_rank.dropna(inplace=True) # Removing Missing Data (not a number)"
   ]
  },
  {
   "cell_type": "markdown",
   "metadata": {},
   "source": [
    "### Data Selection"
   ]
  },
  {
   "cell_type": "markdown",
   "metadata": {},
   "source": [
    "**UNDERSAMPLING**"
   ]
  },
  {
   "cell_type": "code",
   "execution_count": null,
   "metadata": {},
   "outputs": [],
   "source": []
  },
  {
   "cell_type": "code",
   "execution_count": 28,
   "metadata": {},
   "outputs": [
    {
     "name": "stdout",
     "output_type": "stream",
     "text": [
      "In this dataset, we have 293 frauds so we need to take a similar number of non-fraud\n"
     ]
    }
   ],
   "source": [
    "# We seperate ours data in two groups : a train dataset and a test dataset\n",
    "\n",
    "# First we build our train dataset\n",
    "df_train_all = df[0:150000] # We cut in two the original dataset\n",
    "df_train_1 = df_train_all[df_train_all['Class'] == 1] # We seperate the data which are the frauds and the no frauds\n",
    "df_train_0 = df_train_all[df_train_all['Class'] == 0]\n",
    "print('In this dataset, we have ' + str(len(df_train_1)) +\" frauds so we need to take a similar number of non-fraud\")\n",
    "\n",
    "df_sample=df_train_0.sample(300)\n",
    "df_train = df_train_1.append(df_sample) # We gather the frauds with the no frauds. \n",
    "df_train = df_train.sample(frac=1) # Then we mix our dataset"
   ]
  },
  {
   "cell_type": "code",
   "execution_count": 29,
   "metadata": {},
   "outputs": [],
   "source": [
    "X_train = df_train.drop(['Time', 'Class'],axis=1) # We drop the features Time (useless), and the Class (label)\n",
    "y_train = df_train['Class'] # We create our label\n",
    "X_train = np.asarray(X_train)\n",
    "y_train = np.asarray(y_train)\n"
   ]
  },
  {
   "cell_type": "code",
   "execution_count": 30,
   "metadata": {},
   "outputs": [],
   "source": [
    "############################## with all the test dataset to see if the model learn correctly ##################\n",
    "df_test_all = df[150000:]\n",
    "\n",
    "X_test_all = df_test_all.drop(['Time', 'Class'],axis=1)\n",
    "y_test_all = df_test_all['Class']\n",
    "X_test_all = np.asarray(X_test_all)\n",
    "y_test_all = np.asarray(y_test_all)"
   ]
  },
  {
   "cell_type": "markdown",
   "metadata": {},
   "source": [
    "Then we define training and testing set after applying a dimension reduction to illustrate the fact that nothing will be gained because a PCA was previously computed\n"
   ]
  },
  {
   "cell_type": "markdown",
   "metadata": {},
   "source": [
    "Define training and testing set after applying a dimension reduction to illustrate the fact that nothing will be gained because a PCA was previously computed"
   ]
  },
  {
   "cell_type": "code",
   "execution_count": 32,
   "metadata": {},
   "outputs": [],
   "source": [
    "X_train_rank = df_train[df_rank.index[1:11]] # We take the first ten ranked features\n",
    "X_train_rank = np.asarray(X_train_rank)"
   ]
  },
  {
   "cell_type": "code",
   "execution_count": 38,
   "metadata": {},
   "outputs": [],
   "source": [
    "############################## with all the test dataset to see if the model learn correctly ##################\n",
    "X_test_all_rank = df_test_all[df_rank.index[1:11]]\n",
    "X_test_all_rank = np.asarray(X_test_all_rank)\n",
    "y_test_all = np.asarray(y_test_all)"
   ]
  },
  {
   "cell_type": "markdown",
   "metadata": {},
   "source": [
    "### Confusion Matrix"
   ]
  },
  {
   "cell_type": "code",
   "execution_count": 39,
   "metadata": {},
   "outputs": [],
   "source": [
    "class_names=np.array(['0','1']) # Binary label, Class = 1 (fraud) and Class = 0 (no fraud)"
   ]
  },
  {
   "cell_type": "code",
   "execution_count": 40,
   "metadata": {},
   "outputs": [],
   "source": [
    "# Function to plot the confusion Matrix\n",
    "def plot_confusion_matrix(cm, classes,\n",
    "                          title='Confusion matrix',\n",
    "                          cmap=plt.cm.Blues):\n",
    "    \n",
    "    plt.imshow(cm, interpolation='nearest', cmap=cmap)\n",
    "    plt.title(title)\n",
    "    plt.colorbar()\n",
    "    tick_marks = np.arange(len(classes))\n",
    "    plt.xticks(tick_marks, classes, rotation=45)\n",
    "    plt.yticks(tick_marks, classes)\n",
    "\n",
    "    fmt = 'd' \n",
    "    thresh = cm.max() / 2.\n",
    "    for i, j in itertools.product(range(cm.shape[0]), range(cm.shape[1])):\n",
    "        plt.text(j, i, format(cm[i, j], fmt),\n",
    "                 horizontalalignment=\"center\",\n",
    "                 color=\"white\" if cm[i, j] > thresh else \"black\")\n",
    "\n",
    "    plt.tight_layout()\n",
    "    plt.ylabel('True label')\n",
    "    plt.xlabel('Predicted label')\n"
   ]
  },
  {
   "cell_type": "markdown",
   "metadata": {},
   "source": [
    "__Model Selection__"
   ]
  },
  {
   "cell_type": "code",
   "execution_count": 41,
   "metadata": {},
   "outputs": [],
   "source": [
    "from sklearn import svm\n",
    "classifier = svm.SVC(kernel='linear') "
   ]
  },
  {
   "cell_type": "code",
   "execution_count": 42,
   "metadata": {},
   "outputs": [
    {
     "data": {
      "text/plain": [
       "SVC(C=1.0, cache_size=200, class_weight=None, coef0=0.0,\n",
       "  decision_function_shape='ovr', degree=3, gamma='auto_deprecated',\n",
       "  kernel='linear', max_iter=-1, probability=False, random_state=None,\n",
       "  shrinking=True, tol=0.001, verbose=False)"
      ]
     },
     "execution_count": 42,
     "metadata": {},
     "output_type": "execute_result"
    }
   ],
   "source": [
    "classifier.fit(X_train, y_train)"
   ]
  },
  {
   "cell_type": "code",
   "execution_count": 44,
   "metadata": {},
   "outputs": [
    {
     "data": {
      "text/plain": [
       "(593, 29)"
      ]
     },
     "execution_count": 44,
     "metadata": {},
     "output_type": "execute_result"
    }
   ],
   "source": [
    "\n",
    "X_train.shape\n"
   ]
  },
  {
   "cell_type": "markdown",
   "metadata": {},
   "source": []
  },
  {
   "cell_type": "code",
   "execution_count": 45,
   "metadata": {},
   "outputs": [],
   "source": [
    "prediction_SVM_all = classifier.predict(X_test_all) #And finally, we predict our data test."
   ]
  },
  {
   "cell_type": "code",
   "execution_count": 46,
   "metadata": {},
   "outputs": [
    {
     "data": {
      "image/png": "[encoded data removed]",
      "text/plain": [
       "<Figure size 432x288 with 2 Axes>"
      ]
     },
     "metadata": {
      "needs_background": "light"
     },
     "output_type": "display_data"
    }
   ],
   "source": [
    "cm = confusion_matrix(y_test_all, prediction_SVM_all)\n",
    "plot_confusion_matrix(cm,class_names)"
   ]
  },
  {
   "cell_type": "markdown",
   "metadata": {},
   "source": [
    "This case we are gonna try to minimize the number of errors in our prediction results. Errors are on the anti-diagonal of the confusion matrix. But we can infer that being wrong about an actual fraud is far worse than being wrong about a non-fraud transaction.\n",
    "\n",
    "\n",
    "That is why using the accuracy as only classification criterion could be considered unthoughtful. During the remaining part of this study our criterion will consider precision on the real fraud 4 times more important than the general accuracy. Even though the final tested result is accuracy."
   ]
  },
  {
   "cell_type": "code",
   "execution_count": 47,
   "metadata": {},
   "outputs": [
    {
     "name": "stdout",
     "output_type": "stream",
     "text": [
      "Our criterion give a result of 0.9175264186548027\n"
     ]
    }
   ],
   "source": [
    "print('Our criterion give a result of ' \n",
    "      + str( ( (cm[0][0]+cm[1][1]) / (sum(cm[0]) + sum(cm[1])) + 4 * cm[1][1]/(cm[1][0]+cm[1][1])) / 5))"
   ]
  },
  {
   "cell_type": "code",
   "execution_count": 48,
   "metadata": {},
   "outputs": [
    {
     "name": "stdout",
     "output_type": "stream",
     "text": [
      "We have detected 180 frauds / 199 total frauds.\n",
      "\n",
      "So, the probability to detect a fraud is 0.9045226130653267\n",
      "the accuracy is : 0.969541641012707\n"
     ]
    }
   ],
   "source": [
    "print('We have detected ' + str(cm[1][1]) + ' frauds / ' + str(cm[1][1]+cm[1][0]) + ' total frauds.')\n",
    "print('\\nSo, the probability to detect a fraud is ' + str(cm[1][1]/(cm[1][1]+cm[1][0])))\n",
    "print(\"the accuracy is : \"+str((cm[0][0]+cm[1][1]) / (sum(cm[0]) + sum(cm[1]))))"
   ]
  },
  {
   "cell_type": "markdown",
   "metadata": {},
   "source": [
    "Re-balanced class weigh:"
   ]
  },
  {
   "cell_type": "markdown",
   "metadata": {},
   "source": [
    "### Re-balanced class weigh:\n",
    "\n",
    "In this previously used SVM model, the weigh of each class was the same, which means that missing a fraud is as bad as misjudging a non-fraud. The objective, for a bank, is to maximize the number of detected frauds! Even if it means considering more non-fraud tuple as fraudulent operation. So, we need to minimize the False positives : the number of no detected frauds.\n",
    "\n",
    "Indeed, by modifying the class_weight parameter, we can chose which class to give more importance during the training phase. In this case, the class_1 which describes the fraudulent operations will be considered more important than the class_0 (non-fraud operation). However, in this case we will give more importance to the class_0 due to the large number of misclassed non-fraud operation. Of course the goal is to lose as little effective fraud as possible in the process."
   ]
  },
  {
   "cell_type": "code",
   "execution_count": 51,
   "metadata": {},
   "outputs": [],
   "source": [
    "classifier_b = svm.SVC(kernel='linear',class_weight={0:0.60, 1:0.40})"
   ]
  },
  {
   "cell_type": "code",
   "execution_count": 52,
   "metadata": {},
   "outputs": [
    {
     "data": {
      "text/plain": [
       "SVC(C=1.0, cache_size=200, class_weight={0: 0.6, 1: 0.4}, coef0=0.0,\n",
       "  decision_function_shape='ovr', degree=3, gamma='auto_deprecated',\n",
       "  kernel='linear', max_iter=-1, probability=False, random_state=None,\n",
       "  shrinking=True, tol=0.001, verbose=False)"
      ]
     },
     "execution_count": 52,
     "metadata": {},
     "output_type": "execute_result"
    }
   ],
   "source": [
    "classifier_b.fit(X_train, y_train) # Then we train our model, with our balanced data train."
   ]
  },
  {
   "cell_type": "markdown",
   "metadata": {},
   "source": [
    "__Testing the model__"
   ]
  },
  {
   "cell_type": "code",
   "execution_count": null,
   "metadata": {},
   "outputs": [],
   "source": []
  },
  {
   "cell_type": "code",
   "execution_count": null,
   "metadata": {},
   "outputs": [],
   "source": [
    "prediction_SVM_all = classifier.predict(X_test_all) #And finally, we predict our data test."
   ]
  },
  {
   "cell_type": "code",
   "execution_count": 53,
   "metadata": {},
   "outputs": [
    {
     "data": {
      "image/png": "[encoded data removed]",
      "text/plain": [
       "<Figure size 432x288 with 2 Axes>"
      ]
     },
     "metadata": {
      "needs_background": "light"
     },
     "output_type": "display_data"
    }
   ],
   "source": [
    "cm = confusion_matrix(y_test_all, prediction_SVM_all)\n",
    "plot_confusion_matrix(cm,class_names)"
   ]
  },
  {
   "cell_type": "code",
   "execution_count": 54,
   "metadata": {},
   "outputs": [
    {
     "name": "stdout",
     "output_type": "stream",
     "text": [
      "Our criterion give a result of 0.9175264186548027\n"
     ]
    }
   ],
   "source": [
    "print('Our criterion give a result of ' \n",
    "      + str( ( (cm[0][0]+cm[1][1]) / (sum(cm[0]) + sum(cm[1])) + 4 * cm[1][1]/(cm[1][0]+cm[1][1])) / 5))"
   ]
  },
  {
   "cell_type": "code",
   "execution_count": 57,
   "metadata": {},
   "outputs": [
    {
     "name": "stdout",
     "output_type": "stream",
     "text": [
      "We have detected 180 frauds / 199 total frauds.\n",
      "\n",
      "So, the probability to detect a fraud is 0.9045226130653267\n",
      "the accuracy is : 0.969541641012707\n"
     ]
    }
   ],
   "source": [
    "print('We have detected ' + str(cm[1][1]) + ' frauds / ' + str(cm[1][1]+cm[1][0]) + ' total frauds.')\n",
    "print('\\nSo, the probability to detect a fraud is ' + str(cm[1][1]/(cm[1][1]+cm[1][0])))\n",
    "print(\"the accuracy is : \"+str((cm[0][0]+cm[1][1]) / (sum(cm[0]) + sum(cm[1]))))"
   ]
  },
  {
   "cell_type": "markdown",
   "metadata": {},
   "source": [
    "### Models rank"
   ]
  },
  {
   "cell_type": "code",
   "execution_count": 59,
   "metadata": {},
   "outputs": [],
   "source": [
    "classifier_b.fit(X_train_rank, y_train) # Then we train our model, with our balanced data train.\n",
    "prediction_SVM = classifier_b.predict(X_test_all_rank) #And finally, we predict our data test."
   ]
  },
  {
   "cell_type": "code",
   "execution_count": 60,
   "metadata": {},
   "outputs": [
    {
     "data": {
      "image/png": "[encoded data removed]",
      "text/plain": [
       "<Figure size 432x288 with 2 Axes>"
      ]
     },
     "metadata": {
      "needs_background": "light"
     },
     "output_type": "display_data"
    }
   ],
   "source": [
    "cm = confusion_matrix(y_test_all, prediction_SVM)\n",
    "plot_confusion_matrix(cm,class_names)"
   ]
  },
  {
   "cell_type": "code",
   "execution_count": 61,
   "metadata": {},
   "outputs": [
    {
     "name": "stdout",
     "output_type": "stream",
     "text": [
      "Our criterion give a result of 0.8980791634629115\n"
     ]
    }
   ],
   "source": [
    "print('Our criterion give a result of ' \n",
    "      + str( ( (cm[0][0]+cm[1][1]) / (sum(cm[0]) + sum(cm[1])) + 4 * cm[1][1]/(cm[1][0]+cm[1][1])) / 5))"
   ]
  },
  {
   "cell_type": "code",
   "execution_count": 62,
   "metadata": {},
   "outputs": [
    {
     "name": "stdout",
     "output_type": "stream",
     "text": [
      "We have detected 174 frauds / 199 total frauds.\n",
      "\n",
      "So, the probability to detect a fraud is 0.8743718592964824\n",
      "the accuracy is : 0.9929083801286284\n"
     ]
    }
   ],
   "source": [
    "print('We have detected ' + str(cm[1][1]) + ' frauds / ' + str(cm[1][1]+cm[1][0]) + ' total frauds.')\n",
    "print('\\nSo, the probability to detect a fraud is ' + str(cm[1][1]/(cm[1][1]+cm[1][0])))\n",
    "print(\"the accuracy is : \"+str((cm[0][0]+cm[1][1]) / (sum(cm[0]) + sum(cm[1]))))\n"
   ]
  },
  {
   "cell_type": "markdown",
   "metadata": {},
   "source": []
  },
  {
   "cell_type": "markdown",
   "metadata": {},
   "source": [
    "<a id=section4></a>"
   ]
  }
 ],
 "metadata": {
  "kernelspec": {
   "display_name": "Python 3",
   "language": "python",
   "name": "python3"
  },
  "language_info": {
   "codemirror_mode": {
    "name": "ipython",
    "version": 3
   },
   "file_extension": ".py",
   "mimetype": "text/x-python",
   "name": "python",
   "nbconvert_exporter": "python",
   "pygments_lexer": "ipython3",
   "version": "3.7.1"
  }
 },
 "nbformat": 4,
 "nbformat_minor": 1
}
